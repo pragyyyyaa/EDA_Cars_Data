{
 "cells": [
  {
   "cell_type": "markdown",
   "metadata": {},
   "source": [
    "# EDA Car Data Set\n",
    "\n",
    "**We will explore the Car Data set and perform the exploratory data analysis on the dataset. The major topics to be covered are below:**\n",
    "\n",
    "- **Removing duplicates**\n",
    "- **Missing value treatment**\n",
    "- **Outlier Treatment**\n",
    "- **Normalization and Scaling( Numerical Variables)**\n",
    "- **Encoding Categorical variables( Dummy Variables)**\n",
    "- **Univerate Analysis**\n",
    "- **Bivariate Analysis**"
   ]
  },
  {
   "cell_type": "markdown",
   "metadata": {},
   "source": [
    "**As a first step, we will import all the necessary libraries that we think we will requiring to perform the EDA.**"
   ]
  },
  {
   "cell_type": "markdown",
   "metadata": {},
   "source": [
    "# Importing Libraries"
   ]
  },
  {
   "cell_type": "code",
   "execution_count": 6,
   "metadata": {
    "ExecuteTime": {
     "end_time": "2020-04-08T17:42:55.107577Z",
     "start_time": "2020-04-08T17:42:55.102597Z"
    }
   },
   "outputs": [],
   "source": [
    "import pandas as pd\n",
    "import numpy as np\n",
    "import matplotlib.pyplot as plt\n",
    "import seaborn as sns\n",
    "%matplotlib inline"
   ]
  },
  {
   "cell_type": "markdown",
   "metadata": {},
   "source": [
    "# Loading the data set\n",
    "\n",
    "**We will  be loading the EDA cars excel file using pandas. For this we will be using read_excel file.**"
   ]
  },
  {
   "cell_type": "code",
   "execution_count": 15,
   "metadata": {
    "ExecuteTime": {
     "end_time": "2020-04-08T17:42:58.631162Z",
     "start_time": "2020-04-08T17:42:57.530483Z"
    }
   },
   "outputs": [
    {
     "data": {
      "text/plain": [
       "'/Users/kashishshemna/Python'"
      ]
     },
     "execution_count": 15,
     "metadata": {},
     "output_type": "execute_result"
    }
   ],
   "source": [
    "import os\n",
    "os.getcwd()"
   ]
  },
  {
   "cell_type": "code",
   "execution_count": 19,
   "metadata": {},
   "outputs": [],
   "source": [
    "os.chdir('/Users/kashishshemna/Desktop/Trimesters/Trim 3')"
   ]
  },
  {
   "cell_type": "code",
   "execution_count": 23,
   "metadata": {},
   "outputs": [],
   "source": [
    "df = pd.read_excel('EDA_Cars.xlsx')"
   ]
  },
  {
   "cell_type": "markdown",
   "metadata": {},
   "source": [
    "# Basic Data Exploration \n",
    "\n",
    "**In this step, we will perform the below operations to check what the data set comprises of. We will check the below things:**\n",
    "\n",
    "- **head of the dataset**\n",
    "- **shape of the dataset**\n",
    "- **info of the dataset**\n",
    "- **summary of the dataset**"
   ]
  },
  {
   "cell_type": "code",
   "execution_count": 25,
   "metadata": {
    "ExecuteTime": {
     "end_time": "2020-04-08T17:42:59.938189Z",
     "start_time": "2020-04-08T17:42:59.822520Z"
    }
   },
   "outputs": [
    {
     "data": {
      "text/html": [
       "<div>\n",
       "<style scoped>\n",
       "    .dataframe tbody tr th:only-of-type {\n",
       "        vertical-align: middle;\n",
       "    }\n",
       "\n",
       "    .dataframe tbody tr th {\n",
       "        vertical-align: top;\n",
       "    }\n",
       "\n",
       "    .dataframe thead th {\n",
       "        text-align: right;\n",
       "    }\n",
       "</style>\n",
       "<table border=\"1\" class=\"dataframe\">\n",
       "  <thead>\n",
       "    <tr style=\"text-align: right;\">\n",
       "      <th></th>\n",
       "      <th>INDEX</th>\n",
       "      <th>INCOME</th>\n",
       "      <th>MARITAL STATUS</th>\n",
       "      <th>SEX</th>\n",
       "      <th>EDUCATION</th>\n",
       "      <th>JOB</th>\n",
       "      <th>TRAVEL TIME</th>\n",
       "      <th>USE</th>\n",
       "      <th>MILES CLOCKED</th>\n",
       "      <th>CAR TYPE</th>\n",
       "      <th>CAR AGE</th>\n",
       "      <th>CITY</th>\n",
       "      <th>POSTAL CODE</th>\n",
       "    </tr>\n",
       "  </thead>\n",
       "  <tbody>\n",
       "    <tr>\n",
       "      <th>0</th>\n",
       "      <td>1</td>\n",
       "      <td>125301.24250</td>\n",
       "      <td>No</td>\n",
       "      <td>F</td>\n",
       "      <td>Bachelors</td>\n",
       "      <td>Blue Collar</td>\n",
       "      <td>45.703013</td>\n",
       "      <td>Commercial</td>\n",
       "      <td>17430.0</td>\n",
       "      <td>Sports Car</td>\n",
       "      <td>7.0</td>\n",
       "      <td>Texas</td>\n",
       "      <td>42420.0</td>\n",
       "    </tr>\n",
       "    <tr>\n",
       "      <th>1</th>\n",
       "      <td>2</td>\n",
       "      <td>50815.44531</td>\n",
       "      <td>No</td>\n",
       "      <td>M</td>\n",
       "      <td>High School</td>\n",
       "      <td>NaN</td>\n",
       "      <td>20.591628</td>\n",
       "      <td>Private</td>\n",
       "      <td>18930.0</td>\n",
       "      <td>Minivan</td>\n",
       "      <td>1.0</td>\n",
       "      <td>Texas</td>\n",
       "      <td>42420.0</td>\n",
       "    </tr>\n",
       "    <tr>\n",
       "      <th>2</th>\n",
       "      <td>3</td>\n",
       "      <td>62977.82416</td>\n",
       "      <td>NaN</td>\n",
       "      <td>F</td>\n",
       "      <td>Bachelors</td>\n",
       "      <td>Clerical</td>\n",
       "      <td>33.639949</td>\n",
       "      <td>Private</td>\n",
       "      <td>NaN</td>\n",
       "      <td>SUV</td>\n",
       "      <td>1.0</td>\n",
       "      <td>Texas</td>\n",
       "      <td>42420.0</td>\n",
       "    </tr>\n",
       "    <tr>\n",
       "      <th>3</th>\n",
       "      <td>4</td>\n",
       "      <td>77099.96624</td>\n",
       "      <td>No</td>\n",
       "      <td>F</td>\n",
       "      <td>NaN</td>\n",
       "      <td>Lawyer</td>\n",
       "      <td>15.415676</td>\n",
       "      <td>NaN</td>\n",
       "      <td>18300.0</td>\n",
       "      <td>Sports Car</td>\n",
       "      <td>11.0</td>\n",
       "      <td>Texas</td>\n",
       "      <td>42420.0</td>\n",
       "    </tr>\n",
       "    <tr>\n",
       "      <th>4</th>\n",
       "      <td>5</td>\n",
       "      <td>130794.57420</td>\n",
       "      <td>No</td>\n",
       "      <td>M</td>\n",
       "      <td>High School</td>\n",
       "      <td>NaN</td>\n",
       "      <td>NaN</td>\n",
       "      <td>Commercial</td>\n",
       "      <td>28340.0</td>\n",
       "      <td>Panel Truck</td>\n",
       "      <td>10.0</td>\n",
       "      <td>Texas</td>\n",
       "      <td>42420.0</td>\n",
       "    </tr>\n",
       "  </tbody>\n",
       "</table>\n",
       "</div>"
      ],
      "text/plain": [
       "   INDEX        INCOME MARITAL STATUS SEX    EDUCATION          JOB  \\\n",
       "0      1  125301.24250             No   F    Bachelors  Blue Collar   \n",
       "1      2   50815.44531             No   M  High School          NaN   \n",
       "2      3   62977.82416            NaN   F    Bachelors     Clerical   \n",
       "3      4   77099.96624             No   F          NaN       Lawyer   \n",
       "4      5  130794.57420             No   M  High School          NaN   \n",
       "\n",
       "   TRAVEL TIME         USE  MILES CLOCKED     CAR TYPE  CAR AGE   CITY  \\\n",
       "0    45.703013  Commercial        17430.0   Sports Car      7.0  Texas   \n",
       "1    20.591628     Private        18930.0      Minivan      1.0  Texas   \n",
       "2    33.639949     Private            NaN          SUV      1.0  Texas   \n",
       "3    15.415676         NaN        18300.0   Sports Car     11.0  Texas   \n",
       "4          NaN  Commercial        28340.0  Panel Truck     10.0  Texas   \n",
       "\n",
       "   POSTAL CODE  \n",
       "0      42420.0  \n",
       "1      42420.0  \n",
       "2      42420.0  \n",
       "3      42420.0  \n",
       "4      42420.0  "
      ]
     },
     "execution_count": 25,
     "metadata": {},
     "output_type": "execute_result"
    }
   ],
   "source": [
    "df.head()"
   ]
  },
  {
   "cell_type": "markdown",
   "metadata": {},
   "source": [
    "**head function will tell you the top records in the data set. By default python shows you only top 5 records.**"
   ]
  },
  {
   "cell_type": "code",
   "execution_count": 29,
   "metadata": {
    "ExecuteTime": {
     "end_time": "2020-04-08T17:43:01.021806Z",
     "start_time": "2020-04-08T17:43:01.017785Z"
    }
   },
   "outputs": [
    {
     "data": {
      "text/plain": [
       "(303, 13)"
      ]
     },
     "execution_count": 29,
     "metadata": {},
     "output_type": "execute_result"
    }
   ],
   "source": [
    "df.shape"
   ]
  },
  {
   "cell_type": "markdown",
   "metadata": {},
   "source": [
    "**Shape attribute tells us number of observations and variables we have in the data set. It is used to check the dimension of data. The cars data set has 303 observations and 13 variables in the data set.**"
   ]
  },
  {
   "cell_type": "code",
   "execution_count": 41,
   "metadata": {
    "ExecuteTime": {
     "end_time": "2020-04-08T17:43:02.056400Z",
     "start_time": "2020-04-08T17:43:02.044470Z"
    }
   },
   "outputs": [
    {
     "name": "stdout",
     "output_type": "stream",
     "text": [
      "<class 'pandas.core.frame.DataFrame'>\n",
      "RangeIndex: 303 entries, 0 to 302\n",
      "Data columns (total 13 columns):\n",
      " #   Column          Non-Null Count  Dtype   \n",
      "---  ------          --------------  -----   \n",
      " 0   INDEX           303 non-null    int64   \n",
      " 1   INCOME          260 non-null    float64 \n",
      " 2   MARITAL STATUS  275 non-null    object  \n",
      " 3   SEX             297 non-null    object  \n",
      " 4   EDUCATION       259 non-null    object  \n",
      " 5   JOB             257 non-null    object  \n",
      " 6   TRAVEL TIME     262 non-null    float64 \n",
      " 7   USE             250 non-null    object  \n",
      " 8   MILES CLOCKED   278 non-null    float64 \n",
      " 9   CAR TYPE        293 non-null    object  \n",
      " 10  CAR AGE         283 non-null    float64 \n",
      " 11  CITY            297 non-null    object  \n",
      " 12  POSTAL CODE     300 non-null    category\n",
      "dtypes: category(1), float64(4), int64(1), object(7)\n",
      "memory usage: 29.2+ KB\n"
     ]
    }
   ],
   "source": [
    "df.info()"
   ]
  },
  {
   "cell_type": "code",
   "execution_count": 6,
   "metadata": {},
   "outputs": [],
   "source": [
    " # Converting Postel Code into Category "
   ]
  },
  {
   "cell_type": "code",
   "execution_count": 37,
   "metadata": {},
   "outputs": [],
   "source": [
    "df['POSTAL CODE'] = pd.Categorical(df['POSTAL CODE'])"
   ]
  },
  {
   "cell_type": "markdown",
   "metadata": {},
   "source": [
    "**info() is used to check the Information about the data and the datatypes of each respective attributes.**"
   ]
  },
  {
   "cell_type": "code",
   "execution_count": 45,
   "metadata": {
    "ExecuteTime": {
     "end_time": "2020-04-08T17:43:03.102441Z",
     "start_time": "2020-04-08T17:43:03.078505Z"
    }
   },
   "outputs": [
    {
     "data": {
      "text/html": [
       "<div>\n",
       "<style scoped>\n",
       "    .dataframe tbody tr th:only-of-type {\n",
       "        vertical-align: middle;\n",
       "    }\n",
       "\n",
       "    .dataframe tbody tr th {\n",
       "        vertical-align: top;\n",
       "    }\n",
       "\n",
       "    .dataframe thead th {\n",
       "        text-align: right;\n",
       "    }\n",
       "</style>\n",
       "<table border=\"1\" class=\"dataframe\">\n",
       "  <thead>\n",
       "    <tr style=\"text-align: right;\">\n",
       "      <th></th>\n",
       "      <th>INDEX</th>\n",
       "      <th>INCOME</th>\n",
       "      <th>TRAVEL TIME</th>\n",
       "      <th>MILES CLOCKED</th>\n",
       "      <th>CAR AGE</th>\n",
       "    </tr>\n",
       "  </thead>\n",
       "  <tbody>\n",
       "    <tr>\n",
       "      <th>count</th>\n",
       "      <td>303.000000</td>\n",
       "      <td>260.000000</td>\n",
       "      <td>262.000000</td>\n",
       "      <td>278.000000</td>\n",
       "      <td>283.000000</td>\n",
       "    </tr>\n",
       "    <tr>\n",
       "      <th>mean</th>\n",
       "      <td>139.640264</td>\n",
       "      <td>50025.162170</td>\n",
       "      <td>34.282098</td>\n",
       "      <td>13591.978417</td>\n",
       "      <td>6.265018</td>\n",
       "    </tr>\n",
       "    <tr>\n",
       "      <th>std</th>\n",
       "      <td>85.178422</td>\n",
       "      <td>41186.807914</td>\n",
       "      <td>14.910178</td>\n",
       "      <td>7167.328655</td>\n",
       "      <td>5.111218</td>\n",
       "    </tr>\n",
       "    <tr>\n",
       "      <th>min</th>\n",
       "      <td>1.000000</td>\n",
       "      <td>0.000000</td>\n",
       "      <td>5.000000</td>\n",
       "      <td>1500.000000</td>\n",
       "      <td>1.000000</td>\n",
       "    </tr>\n",
       "    <tr>\n",
       "      <th>25%</th>\n",
       "      <td>62.500000</td>\n",
       "      <td>20452.885023</td>\n",
       "      <td>24.449874</td>\n",
       "      <td>7900.000000</td>\n",
       "      <td>1.000000</td>\n",
       "    </tr>\n",
       "    <tr>\n",
       "      <th>50%</th>\n",
       "      <td>138.000000</td>\n",
       "      <td>44571.590870</td>\n",
       "      <td>33.564757</td>\n",
       "      <td>12065.000000</td>\n",
       "      <td>6.000000</td>\n",
       "    </tr>\n",
       "    <tr>\n",
       "      <th>75%</th>\n",
       "      <td>213.500000</td>\n",
       "      <td>66485.761387</td>\n",
       "      <td>43.907339</td>\n",
       "      <td>18240.000000</td>\n",
       "      <td>10.000000</td>\n",
       "    </tr>\n",
       "    <tr>\n",
       "      <th>max</th>\n",
       "      <td>289.000000</td>\n",
       "      <td>204667.589700</td>\n",
       "      <td>83.617643</td>\n",
       "      <td>38000.000000</td>\n",
       "      <td>20.000000</td>\n",
       "    </tr>\n",
       "  </tbody>\n",
       "</table>\n",
       "</div>"
      ],
      "text/plain": [
       "            INDEX         INCOME  TRAVEL TIME  MILES CLOCKED     CAR AGE\n",
       "count  303.000000     260.000000   262.000000     278.000000  283.000000\n",
       "mean   139.640264   50025.162170    34.282098   13591.978417    6.265018\n",
       "std     85.178422   41186.807914    14.910178    7167.328655    5.111218\n",
       "min      1.000000       0.000000     5.000000    1500.000000    1.000000\n",
       "25%     62.500000   20452.885023    24.449874    7900.000000    1.000000\n",
       "50%    138.000000   44571.590870    33.564757   12065.000000    6.000000\n",
       "75%    213.500000   66485.761387    43.907339   18240.000000   10.000000\n",
       "max    289.000000  204667.589700    83.617643   38000.000000   20.000000"
      ]
     },
     "execution_count": 45,
     "metadata": {},
     "output_type": "execute_result"
    }
   ],
   "source": [
    "df.describe()"
   ]
  },
  {
   "cell_type": "markdown",
   "metadata": {},
   "source": [
    "**The describe method will help to see how data has been spread for the numerical values. We can clearly see the minimum value, mean values, different percentile values and maximum values.**"
   ]
  },
  {
   "cell_type": "code",
   "execution_count": 48,
   "metadata": {},
   "outputs": [
    {
     "data": {
      "text/html": [
       "<div>\n",
       "<style scoped>\n",
       "    .dataframe tbody tr th:only-of-type {\n",
       "        vertical-align: middle;\n",
       "    }\n",
       "\n",
       "    .dataframe tbody tr th {\n",
       "        vertical-align: top;\n",
       "    }\n",
       "\n",
       "    .dataframe thead th {\n",
       "        text-align: right;\n",
       "    }\n",
       "</style>\n",
       "<table border=\"1\" class=\"dataframe\">\n",
       "  <thead>\n",
       "    <tr style=\"text-align: right;\">\n",
       "      <th></th>\n",
       "      <th>count</th>\n",
       "      <th>unique</th>\n",
       "      <th>top</th>\n",
       "      <th>freq</th>\n",
       "      <th>mean</th>\n",
       "      <th>std</th>\n",
       "      <th>min</th>\n",
       "      <th>25%</th>\n",
       "      <th>50%</th>\n",
       "      <th>75%</th>\n",
       "      <th>max</th>\n",
       "    </tr>\n",
       "  </thead>\n",
       "  <tbody>\n",
       "    <tr>\n",
       "      <th>INDEX</th>\n",
       "      <td>303.0</td>\n",
       "      <td>NaN</td>\n",
       "      <td>NaN</td>\n",
       "      <td>NaN</td>\n",
       "      <td>139.640264</td>\n",
       "      <td>85.178422</td>\n",
       "      <td>1.0</td>\n",
       "      <td>62.5</td>\n",
       "      <td>138.0</td>\n",
       "      <td>213.5</td>\n",
       "      <td>289.0</td>\n",
       "    </tr>\n",
       "    <tr>\n",
       "      <th>INCOME</th>\n",
       "      <td>260.0</td>\n",
       "      <td>NaN</td>\n",
       "      <td>NaN</td>\n",
       "      <td>NaN</td>\n",
       "      <td>50025.16217</td>\n",
       "      <td>41186.807914</td>\n",
       "      <td>0.0</td>\n",
       "      <td>20452.885023</td>\n",
       "      <td>44571.59087</td>\n",
       "      <td>66485.761387</td>\n",
       "      <td>204667.5897</td>\n",
       "    </tr>\n",
       "    <tr>\n",
       "      <th>MARITAL STATUS</th>\n",
       "      <td>275</td>\n",
       "      <td>2</td>\n",
       "      <td>No</td>\n",
       "      <td>151</td>\n",
       "      <td>NaN</td>\n",
       "      <td>NaN</td>\n",
       "      <td>NaN</td>\n",
       "      <td>NaN</td>\n",
       "      <td>NaN</td>\n",
       "      <td>NaN</td>\n",
       "      <td>NaN</td>\n",
       "    </tr>\n",
       "    <tr>\n",
       "      <th>SEX</th>\n",
       "      <td>297</td>\n",
       "      <td>2</td>\n",
       "      <td>F</td>\n",
       "      <td>165</td>\n",
       "      <td>NaN</td>\n",
       "      <td>NaN</td>\n",
       "      <td>NaN</td>\n",
       "      <td>NaN</td>\n",
       "      <td>NaN</td>\n",
       "      <td>NaN</td>\n",
       "      <td>NaN</td>\n",
       "    </tr>\n",
       "    <tr>\n",
       "      <th>EDUCATION</th>\n",
       "      <td>259</td>\n",
       "      <td>4</td>\n",
       "      <td>High School</td>\n",
       "      <td>161</td>\n",
       "      <td>NaN</td>\n",
       "      <td>NaN</td>\n",
       "      <td>NaN</td>\n",
       "      <td>NaN</td>\n",
       "      <td>NaN</td>\n",
       "      <td>NaN</td>\n",
       "      <td>NaN</td>\n",
       "    </tr>\n",
       "    <tr>\n",
       "      <th>JOB</th>\n",
       "      <td>257</td>\n",
       "      <td>8</td>\n",
       "      <td>Blue Collar</td>\n",
       "      <td>96</td>\n",
       "      <td>NaN</td>\n",
       "      <td>NaN</td>\n",
       "      <td>NaN</td>\n",
       "      <td>NaN</td>\n",
       "      <td>NaN</td>\n",
       "      <td>NaN</td>\n",
       "      <td>NaN</td>\n",
       "    </tr>\n",
       "    <tr>\n",
       "      <th>TRAVEL TIME</th>\n",
       "      <td>262.0</td>\n",
       "      <td>NaN</td>\n",
       "      <td>NaN</td>\n",
       "      <td>NaN</td>\n",
       "      <td>34.282098</td>\n",
       "      <td>14.910178</td>\n",
       "      <td>5.0</td>\n",
       "      <td>24.449874</td>\n",
       "      <td>33.564757</td>\n",
       "      <td>43.907339</td>\n",
       "      <td>83.617643</td>\n",
       "    </tr>\n",
       "    <tr>\n",
       "      <th>USE</th>\n",
       "      <td>250</td>\n",
       "      <td>2</td>\n",
       "      <td>Private</td>\n",
       "      <td>133</td>\n",
       "      <td>NaN</td>\n",
       "      <td>NaN</td>\n",
       "      <td>NaN</td>\n",
       "      <td>NaN</td>\n",
       "      <td>NaN</td>\n",
       "      <td>NaN</td>\n",
       "      <td>NaN</td>\n",
       "    </tr>\n",
       "    <tr>\n",
       "      <th>MILES CLOCKED</th>\n",
       "      <td>278.0</td>\n",
       "      <td>NaN</td>\n",
       "      <td>NaN</td>\n",
       "      <td>NaN</td>\n",
       "      <td>13591.978417</td>\n",
       "      <td>7167.328655</td>\n",
       "      <td>1500.0</td>\n",
       "      <td>7900.0</td>\n",
       "      <td>12065.0</td>\n",
       "      <td>18240.0</td>\n",
       "      <td>38000.0</td>\n",
       "    </tr>\n",
       "    <tr>\n",
       "      <th>CAR TYPE</th>\n",
       "      <td>293</td>\n",
       "      <td>6</td>\n",
       "      <td>SUV</td>\n",
       "      <td>93</td>\n",
       "      <td>NaN</td>\n",
       "      <td>NaN</td>\n",
       "      <td>NaN</td>\n",
       "      <td>NaN</td>\n",
       "      <td>NaN</td>\n",
       "      <td>NaN</td>\n",
       "      <td>NaN</td>\n",
       "    </tr>\n",
       "    <tr>\n",
       "      <th>CAR AGE</th>\n",
       "      <td>283.0</td>\n",
       "      <td>NaN</td>\n",
       "      <td>NaN</td>\n",
       "      <td>NaN</td>\n",
       "      <td>6.265018</td>\n",
       "      <td>5.111218</td>\n",
       "      <td>1.0</td>\n",
       "      <td>1.0</td>\n",
       "      <td>6.0</td>\n",
       "      <td>10.0</td>\n",
       "      <td>20.0</td>\n",
       "    </tr>\n",
       "    <tr>\n",
       "      <th>CITY</th>\n",
       "      <td>297</td>\n",
       "      <td>11</td>\n",
       "      <td>Houston</td>\n",
       "      <td>39</td>\n",
       "      <td>NaN</td>\n",
       "      <td>NaN</td>\n",
       "      <td>NaN</td>\n",
       "      <td>NaN</td>\n",
       "      <td>NaN</td>\n",
       "      <td>NaN</td>\n",
       "      <td>NaN</td>\n",
       "    </tr>\n",
       "    <tr>\n",
       "      <th>POSTAL CODE</th>\n",
       "      <td>300.0</td>\n",
       "      <td>11.0</td>\n",
       "      <td>44412.0</td>\n",
       "      <td>40.0</td>\n",
       "      <td>NaN</td>\n",
       "      <td>NaN</td>\n",
       "      <td>NaN</td>\n",
       "      <td>NaN</td>\n",
       "      <td>NaN</td>\n",
       "      <td>NaN</td>\n",
       "      <td>NaN</td>\n",
       "    </tr>\n",
       "  </tbody>\n",
       "</table>\n",
       "</div>"
      ],
      "text/plain": [
       "                count unique          top  freq          mean           std  \\\n",
       "INDEX           303.0    NaN          NaN   NaN    139.640264     85.178422   \n",
       "INCOME          260.0    NaN          NaN   NaN   50025.16217  41186.807914   \n",
       "MARITAL STATUS    275      2           No   151           NaN           NaN   \n",
       "SEX               297      2            F   165           NaN           NaN   \n",
       "EDUCATION         259      4  High School   161           NaN           NaN   \n",
       "JOB               257      8  Blue Collar    96           NaN           NaN   \n",
       "TRAVEL TIME     262.0    NaN          NaN   NaN     34.282098     14.910178   \n",
       "USE               250      2      Private   133           NaN           NaN   \n",
       "MILES CLOCKED   278.0    NaN          NaN   NaN  13591.978417   7167.328655   \n",
       "CAR TYPE          293      6          SUV    93           NaN           NaN   \n",
       "CAR AGE         283.0    NaN          NaN   NaN      6.265018      5.111218   \n",
       "CITY              297     11      Houston    39           NaN           NaN   \n",
       "POSTAL CODE     300.0   11.0      44412.0  40.0           NaN           NaN   \n",
       "\n",
       "                   min           25%          50%           75%          max  \n",
       "INDEX              1.0          62.5        138.0         213.5        289.0  \n",
       "INCOME             0.0  20452.885023  44571.59087  66485.761387  204667.5897  \n",
       "MARITAL STATUS     NaN           NaN          NaN           NaN          NaN  \n",
       "SEX                NaN           NaN          NaN           NaN          NaN  \n",
       "EDUCATION          NaN           NaN          NaN           NaN          NaN  \n",
       "JOB                NaN           NaN          NaN           NaN          NaN  \n",
       "TRAVEL TIME        5.0     24.449874    33.564757     43.907339    83.617643  \n",
       "USE                NaN           NaN          NaN           NaN          NaN  \n",
       "MILES CLOCKED   1500.0        7900.0      12065.0       18240.0      38000.0  \n",
       "CAR TYPE           NaN           NaN          NaN           NaN          NaN  \n",
       "CAR AGE            1.0           1.0          6.0          10.0         20.0  \n",
       "CITY               NaN           NaN          NaN           NaN          NaN  \n",
       "POSTAL CODE        NaN           NaN          NaN           NaN          NaN  "
      ]
     },
     "execution_count": 48,
     "metadata": {},
     "output_type": "execute_result"
    }
   ],
   "source": [
    "df.describe(include='all').T"
   ]
  },
  {
   "cell_type": "markdown",
   "metadata": {},
   "source": [
    "# Check for Duplicate records"
   ]
  },
  {
   "cell_type": "code",
   "execution_count": 50,
   "metadata": {
    "ExecuteTime": {
     "end_time": "2020-04-08T17:43:04.573449Z",
     "start_time": "2020-04-08T17:43:04.551522Z"
    }
   },
   "outputs": [
    {
     "name": "stdout",
     "output_type": "stream",
     "text": [
      "Number of duplicate rows = 14\n"
     ]
    },
    {
     "data": {
      "text/html": [
       "<div>\n",
       "<style scoped>\n",
       "    .dataframe tbody tr th:only-of-type {\n",
       "        vertical-align: middle;\n",
       "    }\n",
       "\n",
       "    .dataframe tbody tr th {\n",
       "        vertical-align: top;\n",
       "    }\n",
       "\n",
       "    .dataframe thead th {\n",
       "        text-align: right;\n",
       "    }\n",
       "</style>\n",
       "<table border=\"1\" class=\"dataframe\">\n",
       "  <thead>\n",
       "    <tr style=\"text-align: right;\">\n",
       "      <th></th>\n",
       "      <th>INDEX</th>\n",
       "      <th>INCOME</th>\n",
       "      <th>MARITAL STATUS</th>\n",
       "      <th>SEX</th>\n",
       "      <th>EDUCATION</th>\n",
       "      <th>JOB</th>\n",
       "      <th>TRAVEL TIME</th>\n",
       "      <th>USE</th>\n",
       "      <th>MILES CLOCKED</th>\n",
       "      <th>CAR TYPE</th>\n",
       "      <th>CAR AGE</th>\n",
       "      <th>CITY</th>\n",
       "      <th>POSTAL CODE</th>\n",
       "    </tr>\n",
       "  </thead>\n",
       "  <tbody>\n",
       "    <tr>\n",
       "      <th>69</th>\n",
       "      <td>29</td>\n",
       "      <td>64013.81632</td>\n",
       "      <td>Yes</td>\n",
       "      <td>M</td>\n",
       "      <td>High School</td>\n",
       "      <td>Blue Collar</td>\n",
       "      <td>32.717234</td>\n",
       "      <td>Commercial</td>\n",
       "      <td>7900.0</td>\n",
       "      <td>Pickup</td>\n",
       "      <td>5.0</td>\n",
       "      <td>Los Angeles</td>\n",
       "      <td>90049.0</td>\n",
       "    </tr>\n",
       "    <tr>\n",
       "      <th>70</th>\n",
       "      <td>29</td>\n",
       "      <td>64013.81632</td>\n",
       "      <td>Yes</td>\n",
       "      <td>M</td>\n",
       "      <td>High School</td>\n",
       "      <td>Blue Collar</td>\n",
       "      <td>32.717234</td>\n",
       "      <td>Commercial</td>\n",
       "      <td>7900.0</td>\n",
       "      <td>Pickup</td>\n",
       "      <td>5.0</td>\n",
       "      <td>Los Angeles</td>\n",
       "      <td>90049.0</td>\n",
       "    </tr>\n",
       "    <tr>\n",
       "      <th>71</th>\n",
       "      <td>29</td>\n",
       "      <td>64013.81632</td>\n",
       "      <td>Yes</td>\n",
       "      <td>M</td>\n",
       "      <td>High School</td>\n",
       "      <td>Blue Collar</td>\n",
       "      <td>32.717234</td>\n",
       "      <td>Commercial</td>\n",
       "      <td>7900.0</td>\n",
       "      <td>Pickup</td>\n",
       "      <td>5.0</td>\n",
       "      <td>Los Angeles</td>\n",
       "      <td>90049.0</td>\n",
       "    </tr>\n",
       "    <tr>\n",
       "      <th>72</th>\n",
       "      <td>29</td>\n",
       "      <td>64013.81632</td>\n",
       "      <td>Yes</td>\n",
       "      <td>M</td>\n",
       "      <td>High School</td>\n",
       "      <td>Blue Collar</td>\n",
       "      <td>32.717234</td>\n",
       "      <td>Commercial</td>\n",
       "      <td>7900.0</td>\n",
       "      <td>Pickup</td>\n",
       "      <td>5.0</td>\n",
       "      <td>Los Angeles</td>\n",
       "      <td>90049.0</td>\n",
       "    </tr>\n",
       "    <tr>\n",
       "      <th>73</th>\n",
       "      <td>29</td>\n",
       "      <td>64013.81632</td>\n",
       "      <td>Yes</td>\n",
       "      <td>M</td>\n",
       "      <td>High School</td>\n",
       "      <td>Blue Collar</td>\n",
       "      <td>32.717234</td>\n",
       "      <td>Commercial</td>\n",
       "      <td>7900.0</td>\n",
       "      <td>Pickup</td>\n",
       "      <td>5.0</td>\n",
       "      <td>Los Angeles</td>\n",
       "      <td>90049.0</td>\n",
       "    </tr>\n",
       "    <tr>\n",
       "      <th>74</th>\n",
       "      <td>29</td>\n",
       "      <td>64013.81632</td>\n",
       "      <td>Yes</td>\n",
       "      <td>M</td>\n",
       "      <td>High School</td>\n",
       "      <td>Blue Collar</td>\n",
       "      <td>32.717234</td>\n",
       "      <td>Commercial</td>\n",
       "      <td>7900.0</td>\n",
       "      <td>Pickup</td>\n",
       "      <td>5.0</td>\n",
       "      <td>Los Angeles</td>\n",
       "      <td>90049.0</td>\n",
       "    </tr>\n",
       "    <tr>\n",
       "      <th>75</th>\n",
       "      <td>29</td>\n",
       "      <td>64013.81632</td>\n",
       "      <td>Yes</td>\n",
       "      <td>M</td>\n",
       "      <td>High School</td>\n",
       "      <td>Blue Collar</td>\n",
       "      <td>32.717234</td>\n",
       "      <td>Commercial</td>\n",
       "      <td>7900.0</td>\n",
       "      <td>Pickup</td>\n",
       "      <td>5.0</td>\n",
       "      <td>Los Angeles</td>\n",
       "      <td>90049.0</td>\n",
       "    </tr>\n",
       "    <tr>\n",
       "      <th>76</th>\n",
       "      <td>29</td>\n",
       "      <td>64013.81632</td>\n",
       "      <td>Yes</td>\n",
       "      <td>M</td>\n",
       "      <td>High School</td>\n",
       "      <td>Blue Collar</td>\n",
       "      <td>32.717234</td>\n",
       "      <td>Commercial</td>\n",
       "      <td>7900.0</td>\n",
       "      <td>Pickup</td>\n",
       "      <td>5.0</td>\n",
       "      <td>Los Angeles</td>\n",
       "      <td>90049.0</td>\n",
       "    </tr>\n",
       "    <tr>\n",
       "      <th>77</th>\n",
       "      <td>29</td>\n",
       "      <td>64013.81632</td>\n",
       "      <td>Yes</td>\n",
       "      <td>M</td>\n",
       "      <td>High School</td>\n",
       "      <td>Blue Collar</td>\n",
       "      <td>32.717234</td>\n",
       "      <td>Commercial</td>\n",
       "      <td>7900.0</td>\n",
       "      <td>Pickup</td>\n",
       "      <td>5.0</td>\n",
       "      <td>Los Angeles</td>\n",
       "      <td>90049.0</td>\n",
       "    </tr>\n",
       "    <tr>\n",
       "      <th>78</th>\n",
       "      <td>29</td>\n",
       "      <td>64013.81632</td>\n",
       "      <td>Yes</td>\n",
       "      <td>M</td>\n",
       "      <td>High School</td>\n",
       "      <td>Blue Collar</td>\n",
       "      <td>32.717234</td>\n",
       "      <td>Commercial</td>\n",
       "      <td>7900.0</td>\n",
       "      <td>Pickup</td>\n",
       "      <td>5.0</td>\n",
       "      <td>Los Angeles</td>\n",
       "      <td>90049.0</td>\n",
       "    </tr>\n",
       "    <tr>\n",
       "      <th>79</th>\n",
       "      <td>29</td>\n",
       "      <td>64013.81632</td>\n",
       "      <td>Yes</td>\n",
       "      <td>M</td>\n",
       "      <td>High School</td>\n",
       "      <td>Blue Collar</td>\n",
       "      <td>32.717234</td>\n",
       "      <td>Commercial</td>\n",
       "      <td>7900.0</td>\n",
       "      <td>Pickup</td>\n",
       "      <td>5.0</td>\n",
       "      <td>Los Angeles</td>\n",
       "      <td>90049.0</td>\n",
       "    </tr>\n",
       "    <tr>\n",
       "      <th>80</th>\n",
       "      <td>29</td>\n",
       "      <td>64013.81632</td>\n",
       "      <td>Yes</td>\n",
       "      <td>M</td>\n",
       "      <td>High School</td>\n",
       "      <td>Blue Collar</td>\n",
       "      <td>32.717234</td>\n",
       "      <td>Commercial</td>\n",
       "      <td>7900.0</td>\n",
       "      <td>Pickup</td>\n",
       "      <td>5.0</td>\n",
       "      <td>Los Angeles</td>\n",
       "      <td>90049.0</td>\n",
       "    </tr>\n",
       "    <tr>\n",
       "      <th>81</th>\n",
       "      <td>29</td>\n",
       "      <td>64013.81632</td>\n",
       "      <td>Yes</td>\n",
       "      <td>M</td>\n",
       "      <td>High School</td>\n",
       "      <td>Blue Collar</td>\n",
       "      <td>32.717234</td>\n",
       "      <td>Commercial</td>\n",
       "      <td>7900.0</td>\n",
       "      <td>Pickup</td>\n",
       "      <td>5.0</td>\n",
       "      <td>Los Angeles</td>\n",
       "      <td>90049.0</td>\n",
       "    </tr>\n",
       "    <tr>\n",
       "      <th>82</th>\n",
       "      <td>29</td>\n",
       "      <td>64013.81632</td>\n",
       "      <td>Yes</td>\n",
       "      <td>M</td>\n",
       "      <td>High School</td>\n",
       "      <td>Blue Collar</td>\n",
       "      <td>32.717234</td>\n",
       "      <td>Commercial</td>\n",
       "      <td>7900.0</td>\n",
       "      <td>Pickup</td>\n",
       "      <td>5.0</td>\n",
       "      <td>Los Angeles</td>\n",
       "      <td>90049.0</td>\n",
       "    </tr>\n",
       "  </tbody>\n",
       "</table>\n",
       "</div>"
      ],
      "text/plain": [
       "    INDEX       INCOME MARITAL STATUS SEX    EDUCATION          JOB  \\\n",
       "69     29  64013.81632            Yes   M  High School  Blue Collar   \n",
       "70     29  64013.81632            Yes   M  High School  Blue Collar   \n",
       "71     29  64013.81632            Yes   M  High School  Blue Collar   \n",
       "72     29  64013.81632            Yes   M  High School  Blue Collar   \n",
       "73     29  64013.81632            Yes   M  High School  Blue Collar   \n",
       "74     29  64013.81632            Yes   M  High School  Blue Collar   \n",
       "75     29  64013.81632            Yes   M  High School  Blue Collar   \n",
       "76     29  64013.81632            Yes   M  High School  Blue Collar   \n",
       "77     29  64013.81632            Yes   M  High School  Blue Collar   \n",
       "78     29  64013.81632            Yes   M  High School  Blue Collar   \n",
       "79     29  64013.81632            Yes   M  High School  Blue Collar   \n",
       "80     29  64013.81632            Yes   M  High School  Blue Collar   \n",
       "81     29  64013.81632            Yes   M  High School  Blue Collar   \n",
       "82     29  64013.81632            Yes   M  High School  Blue Collar   \n",
       "\n",
       "    TRAVEL TIME         USE  MILES CLOCKED CAR TYPE  CAR AGE         CITY  \\\n",
       "69    32.717234  Commercial         7900.0   Pickup      5.0  Los Angeles   \n",
       "70    32.717234  Commercial         7900.0   Pickup      5.0  Los Angeles   \n",
       "71    32.717234  Commercial         7900.0   Pickup      5.0  Los Angeles   \n",
       "72    32.717234  Commercial         7900.0   Pickup      5.0  Los Angeles   \n",
       "73    32.717234  Commercial         7900.0   Pickup      5.0  Los Angeles   \n",
       "74    32.717234  Commercial         7900.0   Pickup      5.0  Los Angeles   \n",
       "75    32.717234  Commercial         7900.0   Pickup      5.0  Los Angeles   \n",
       "76    32.717234  Commercial         7900.0   Pickup      5.0  Los Angeles   \n",
       "77    32.717234  Commercial         7900.0   Pickup      5.0  Los Angeles   \n",
       "78    32.717234  Commercial         7900.0   Pickup      5.0  Los Angeles   \n",
       "79    32.717234  Commercial         7900.0   Pickup      5.0  Los Angeles   \n",
       "80    32.717234  Commercial         7900.0   Pickup      5.0  Los Angeles   \n",
       "81    32.717234  Commercial         7900.0   Pickup      5.0  Los Angeles   \n",
       "82    32.717234  Commercial         7900.0   Pickup      5.0  Los Angeles   \n",
       "\n",
       "   POSTAL CODE  \n",
       "69     90049.0  \n",
       "70     90049.0  \n",
       "71     90049.0  \n",
       "72     90049.0  \n",
       "73     90049.0  \n",
       "74     90049.0  \n",
       "75     90049.0  \n",
       "76     90049.0  \n",
       "77     90049.0  \n",
       "78     90049.0  \n",
       "79     90049.0  \n",
       "80     90049.0  \n",
       "81     90049.0  \n",
       "82     90049.0  "
      ]
     },
     "execution_count": 50,
     "metadata": {},
     "output_type": "execute_result"
    }
   ],
   "source": [
    "# Check for duplicate data\n",
    "dups = df.duplicated()\n",
    "print('Number of duplicate rows = %d' % (dups.sum()))\n",
    "df[dups]"
   ]
  },
  {
   "cell_type": "markdown",
   "metadata": {},
   "source": [
    "**Since we have 14 duplicate records in the data, we will remove this from the data set so that we get only distinct records.**"
   ]
  },
  {
   "cell_type": "code",
   "execution_count": 52,
   "metadata": {
    "ExecuteTime": {
     "end_time": "2020-04-08T17:43:05.593735Z",
     "start_time": "2020-04-08T17:43:05.581812Z"
    }
   },
   "outputs": [],
   "source": [
    "df.drop_duplicates(inplace=True)"
   ]
  },
  {
   "cell_type": "markdown",
   "metadata": {},
   "source": [
    "**Post removing the duplicate, we will check whether the duplicates has been removed from the data set or not.**"
   ]
  },
  {
   "cell_type": "code",
   "execution_count": 11,
   "metadata": {
    "ExecuteTime": {
     "end_time": "2020-04-08T17:43:06.553875Z",
     "start_time": "2020-04-08T17:43:06.537920Z"
    }
   },
   "outputs": [
    {
     "name": "stdout",
     "output_type": "stream",
     "text": [
      "Number of duplicate rows = 0\n"
     ]
    },
    {
     "data": {
      "text/html": [
       "<div>\n",
       "<style scoped>\n",
       "    .dataframe tbody tr th:only-of-type {\n",
       "        vertical-align: middle;\n",
       "    }\n",
       "\n",
       "    .dataframe tbody tr th {\n",
       "        vertical-align: top;\n",
       "    }\n",
       "\n",
       "    .dataframe thead th {\n",
       "        text-align: right;\n",
       "    }\n",
       "</style>\n",
       "<table border=\"1\" class=\"dataframe\">\n",
       "  <thead>\n",
       "    <tr style=\"text-align: right;\">\n",
       "      <th></th>\n",
       "      <th>INDEX</th>\n",
       "      <th>INCOME</th>\n",
       "      <th>MARITAL STATUS</th>\n",
       "      <th>SEX</th>\n",
       "      <th>EDUCATION</th>\n",
       "      <th>JOB</th>\n",
       "      <th>TRAVEL TIME</th>\n",
       "      <th>USE</th>\n",
       "      <th>MILES CLOCKED</th>\n",
       "      <th>CAR TYPE</th>\n",
       "      <th>CAR AGE</th>\n",
       "      <th>CITY</th>\n",
       "      <th>POSTAL CODE</th>\n",
       "    </tr>\n",
       "  </thead>\n",
       "  <tbody>\n",
       "  </tbody>\n",
       "</table>\n",
       "</div>"
      ],
      "text/plain": [
       "Empty DataFrame\n",
       "Columns: [INDEX, INCOME, MARITAL STATUS, SEX, EDUCATION, JOB, TRAVEL TIME, USE, MILES CLOCKED, CAR TYPE, CAR AGE, CITY, POSTAL CODE]\n",
       "Index: []"
      ]
     },
     "execution_count": 11,
     "metadata": {},
     "output_type": "execute_result"
    }
   ],
   "source": [
    "# Check for duplicate data\n",
    "\n",
    "dups = df.duplicated()\n",
    "print('Number of duplicate rows = %d' % (dups.sum()))\n",
    "\n",
    "df[dups]"
   ]
  },
  {
   "cell_type": "markdown",
   "metadata": {},
   "source": [
    "**Now, we can  clearly see that there are no duplicate records in the data set. We can also quickly confirm the number of records by using the shape attribute as those 14 records should be removed from the original data. Initially it had 303 records now it should have 289**"
   ]
  },
  {
   "cell_type": "code",
   "execution_count": 54,
   "metadata": {
    "ExecuteTime": {
     "end_time": "2020-04-08T17:43:07.511247Z",
     "start_time": "2020-04-08T17:43:07.507265Z"
    }
   },
   "outputs": [
    {
     "data": {
      "text/plain": [
       "(289, 13)"
      ]
     },
     "execution_count": 54,
     "metadata": {},
     "output_type": "execute_result"
    }
   ],
   "source": [
    "df.shape"
   ]
  },
  {
   "cell_type": "markdown",
   "metadata": {},
   "source": [
    "# Outlier Treatment\n",
    "\n",
    "**To check for outliers, we will be plotting the box plots.**"
   ]
  },
  {
   "cell_type": "code",
   "execution_count": 56,
   "metadata": {
    "ExecuteTime": {
     "end_time": "2020-04-08T17:43:09.015194Z",
     "start_time": "2020-04-08T17:43:08.445798Z"
    }
   },
   "outputs": [
    {
     "data": {
      "image/png": "[encoded data removed]",
      "text/plain": [
       "<Figure size 640x480 with 1 Axes>"
      ]
     },
     "metadata": {},
     "output_type": "display_data"
    }
   ],
   "source": [
    "df.boxplot(column=['INCOME'])\n",
    "plt.show()"
   ]
  },
  {
   "cell_type": "code",
   "execution_count": 58,
   "metadata": {
    "ExecuteTime": {
     "end_time": "2020-04-08T17:43:09.220949Z",
     "start_time": "2020-04-08T17:43:09.126393Z"
    },
    "scrolled": true
   },
   "outputs": [
    {
     "data": {
      "image/png": "[encoded data removed]",
      "text/plain": [
       "<Figure size 640x480 with 1 Axes>"
      ]
     },
     "metadata": {},
     "output_type": "display_data"
    }
   ],
   "source": [
    "df.boxplot(column=['TRAVEL TIME'])\n",
    "plt.show()"
   ]
  },
  {
   "cell_type": "code",
   "execution_count": 60,
   "metadata": {
    "ExecuteTime": {
     "end_time": "2020-04-08T17:43:09.619602Z",
     "start_time": "2020-04-08T17:43:09.518443Z"
    }
   },
   "outputs": [
    {
     "data": {
      "image/png": "[encoded data removed]",
      "text/plain": [
       "<Figure size 640x480 with 1 Axes>"
      ]
     },
     "metadata": {},
     "output_type": "display_data"
    }
   ],
   "source": [
    "df.boxplot(column=['CAR AGE'])\n",
    "plt.show()"
   ]
  },
  {
   "cell_type": "code",
   "execution_count": 62,
   "metadata": {
    "ExecuteTime": {
     "end_time": "2020-04-08T17:43:10.152434Z",
     "start_time": "2020-04-08T17:43:10.052701Z"
    }
   },
   "outputs": [
    {
     "data": {
      "image/png": "[encoded data removed]",
      "text/plain": [
       "<Figure size 640x480 with 1 Axes>"
      ]
     },
     "metadata": {},
     "output_type": "display_data"
    }
   ],
   "source": [
    "df.boxplot(column=['MILES CLOCKED'])\n",
    "plt.show()"
   ]
  },
  {
   "cell_type": "markdown",
   "metadata": {},
   "source": [
    "**Looking at the box plot, it seems that the three variables INCOME, MILES CLOCKED and TRAVEL TIME have outlier present in the variables.**\n",
    "\n",
    "**These outliers value needs to be teated and there are several ways of treating them:**\n",
    "    \n",
    "- **Drop the outlier value**\n",
    "- **Replace the outlier value using the IQR**\n",
    "\n"
   ]
  },
  {
   "cell_type": "markdown",
   "metadata": {},
   "source": [
    "**Created a user definded function for finding the lower and upper range for a variable so that outlier can be treated.**"
   ]
  },
  {
   "cell_type": "code",
   "execution_count": 68,
   "metadata": {
    "ExecuteTime": {
     "end_time": "2020-04-08T17:43:12.135431Z",
     "start_time": "2020-04-08T17:43:12.127452Z"
    }
   },
   "outputs": [],
   "source": [
    "def remove_outlier(col):\n",
    "    sorted(col)\n",
    "    Q1,Q3=col.quantile([0.25,0.75])\n",
    "    IQR=Q3-Q1\n",
    "    lower_range= Q1-(1.5 * IQR)\n",
    "    upper_range= Q3+(1.5 * IQR)\n",
    "    return lower_range, upper_range"
   ]
  },
  {
   "cell_type": "code",
   "execution_count": 70,
   "metadata": {
    "ExecuteTime": {
     "end_time": "2020-04-08T17:43:12.650851Z",
     "start_time": "2020-04-08T17:43:12.626880Z"
    }
   },
   "outputs": [
    {
     "data": {
      "text/plain": [
       "(289, 13)"
      ]
     },
     "execution_count": 70,
     "metadata": {},
     "output_type": "execute_result"
    }
   ],
   "source": [
    "lrincome,urincome=remove_outlier(df['INCOME'])\n",
    "df['INCOME']=np.where(df['INCOME']>urincome,urincome,df['INCOME'])\n",
    "df['INCOME']=np.where(df['INCOME']>lrincome,lrincome,df['INCOME'])\n",
    "\n",
    "lrtravel,urtravel=remove_outlier(df['TRAVEL TIME'])\n",
    "df['TRAVEL TIME']=np.where(df['TRAVEL TIME']>urtravel,urtravel,df['TRAVEL TIME'])\n",
    "df['TRAVEL TIME']=np.where(df['TRAVEL TIME']<lrtravel,lrtravel,df['TRAVEL TIME'])\n",
    "\n",
    "lrmiles,urmiles=remove_outlier(df['MILES CLOCKED'])\n",
    "df['MILES CLOCKED']=np.where(df['MILES CLOCKED']>urmiles,urmiles,df['MILES CLOCKED'])\n",
    "df['MILES CLOCKED']=np.where(df['MILES CLOCKED']<lrmiles,lrmiles,df['MILES CLOCKED'])\n",
    "\n",
    "df.shape"
   ]
  },
  {
   "cell_type": "markdown",
   "metadata": {},
   "source": [
    "##  Make Boxplots after Outlier Treatment"
   ]
  },
  {
   "cell_type": "code",
   "execution_count": 76,
   "metadata": {
    "ExecuteTime": {
     "end_time": "2020-04-08T17:43:13.270315Z",
     "start_time": "2020-04-08T17:43:13.165558Z"
    }
   },
   "outputs": [
    {
     "data": {
      "image/png": "[encoded data removed]",
      "text/plain": [
       "<Figure size 640x480 with 1 Axes>"
      ]
     },
     "metadata": {},
     "output_type": "display_data"
    }
   ],
   "source": [
    "df.boxplot(column=['INCOME'])\n",
    "plt.show()"
   ]
  },
  {
   "cell_type": "code",
   "execution_count": 72,
   "metadata": {
    "ExecuteTime": {
     "end_time": "2020-04-08T17:43:13.775304Z",
     "start_time": "2020-04-08T17:43:13.680593Z"
    }
   },
   "outputs": [
    {
     "data": {
      "image/png": "[encoded data removed]",
      "text/plain": [
       "<Figure size 640x480 with 1 Axes>"
      ]
     },
     "metadata": {},
     "output_type": "display_data"
    }
   ],
   "source": [
    "df.boxplot(column=['TRAVEL TIME'])\n",
    "plt.show()"
   ]
  },
  {
   "cell_type": "code",
   "execution_count": 78,
   "metadata": {
    "ExecuteTime": {
     "end_time": "2020-04-08T17:43:14.291660Z",
     "start_time": "2020-04-08T17:43:14.188935Z"
    }
   },
   "outputs": [
    {
     "data": {
      "image/png": "[encoded data removed]",
      "text/plain": [
       "<Figure size 640x480 with 1 Axes>"
      ]
     },
     "metadata": {},
     "output_type": "display_data"
    }
   ],
   "source": [
    "df.boxplot(column=['MILES CLOCKED'])\n",
    "plt.show()"
   ]
  },
  {
   "cell_type": "markdown",
   "metadata": {},
   "source": [
    "**If you look at the box plots above,post treating the outlier there are no outliers in all these columns.**"
   ]
  },
  {
   "cell_type": "markdown",
   "metadata": {},
   "source": [
    "# Check for missing value"
   ]
  },
  {
   "cell_type": "code",
   "execution_count": 80,
   "metadata": {
    "ExecuteTime": {
     "end_time": "2020-04-08T17:43:16.269367Z",
     "start_time": "2020-04-08T17:43:16.260391Z"
    }
   },
   "outputs": [
    {
     "data": {
      "text/plain": [
       "INCOME            43\n",
       "MARITAL STATUS    28\n",
       "SEX                6\n",
       "EDUCATION         44\n",
       "JOB               46\n",
       "TRAVEL TIME       41\n",
       "USE               53\n",
       "MILES CLOCKED     25\n",
       "CAR TYPE          10\n",
       "CAR AGE           20\n",
       "CITY               6\n",
       "POSTAL CODE        3\n",
       "dtype: int64"
      ]
     },
     "execution_count": 80,
     "metadata": {},
     "output_type": "execute_result"
    }
   ],
   "source": [
    "# Check for missing value in any column\n",
    "df.isnull().sum()[df.isnull().sum()>0]"
   ]
  },
  {
   "cell_type": "markdown",
   "metadata": {},
   "source": [
    "**We can see that we have various missing values in respective columns. There are various ways of treating your missing values in the data set. And which technique to use when is actually dependent on the type of data you are dealing with.**\n",
    "\n",
    "- **Drop the missing values : In this case we drop the missing values from those variables. In case there are very few missing values you can drop those values.**\n",
    "\n",
    "- **Impute with mean value : For numerical column, you can replace the missing values with mean values. Before replacing with mean value, it is advisable to check that the variable shouldn't have extreme values .i.e. outliers.**\n",
    "\n",
    "- **Impute with median value : For numerical column, you can also replace the missing values with median values. In case you have extreme values such as outliers it is advisable to use median approach.**\n",
    "\n",
    "- **Impute with mode value : For categorical column, you can replace the missing values with mode values i.e the frequent ones.**\n",
    "\n",
    "**In this exercise, we will replace the numerical columns with median values and for categorical columns we will replace the missing values with mode values.**"
   ]
  },
  {
   "cell_type": "code",
   "execution_count": 82,
   "metadata": {
    "ExecuteTime": {
     "end_time": "2020-04-08T17:43:17.371867Z",
     "start_time": "2020-04-08T17:43:17.351924Z"
    }
   },
   "outputs": [
    {
     "data": {
      "text/plain": [
       "INCOME             float64\n",
       "MARITAL STATUS      object\n",
       "SEX                 object\n",
       "EDUCATION           object\n",
       "JOB                 object\n",
       "TRAVEL TIME        float64\n",
       "USE                 object\n",
       "MILES CLOCKED      float64\n",
       "CAR TYPE            object\n",
       "CAR AGE            float64\n",
       "CITY                object\n",
       "POSTAL CODE       category\n",
       "dtype: object"
      ]
     },
     "execution_count": 82,
     "metadata": {},
     "output_type": "execute_result"
    }
   ],
   "source": [
    "df[df.isnull().sum()[df.isnull().sum()>0].index].dtypes"
   ]
  },
  {
   "cell_type": "markdown",
   "metadata": {},
   "source": [
    "**Replacing NULL values in Numerical Columns using Median**"
   ]
  },
  {
   "cell_type": "code",
   "execution_count": 86,
   "metadata": {
    "ExecuteTime": {
     "end_time": "2020-04-08T17:43:18.406760Z",
     "start_time": "2020-04-08T17:43:18.397786Z"
    }
   },
   "outputs": [
    {
     "name": "stderr",
     "output_type": "stream",
     "text": [
      "/var/folders/6q/mm054v6n5wv1_85ngy7f0b7w0000gn/T/ipykernel_2489/2877460035.py:6: FutureWarning: A value is trying to be set on a copy of a DataFrame or Series through chained assignment using an inplace method.\n",
      "The behavior will change in pandas 3.0. This inplace method will never work because the intermediate object on which we are setting values always behaves as a copy.\n",
      "\n",
      "For example, when doing 'df[col].method(value, inplace=True)', try using 'df.method({col: value}, inplace=True)' or df[col] = df[col].method(value) instead, to perform the operation inplace on the original object.\n",
      "\n",
      "\n",
      "  df[\"INCOME\"].replace(np.nan, median1, inplace=True)\n",
      "/var/folders/6q/mm054v6n5wv1_85ngy7f0b7w0000gn/T/ipykernel_2489/2877460035.py:7: FutureWarning: A value is trying to be set on a copy of a DataFrame or Series through chained assignment using an inplace method.\n",
      "The behavior will change in pandas 3.0. This inplace method will never work because the intermediate object on which we are setting values always behaves as a copy.\n",
      "\n",
      "For example, when doing 'df[col].method(value, inplace=True)', try using 'df.method({col: value}, inplace=True)' or df[col] = df[col].method(value) instead, to perform the operation inplace on the original object.\n",
      "\n",
      "\n",
      "  df[\"TRAVEL TIME\"].replace(np.nan, median2, inplace=True)\n",
      "/var/folders/6q/mm054v6n5wv1_85ngy7f0b7w0000gn/T/ipykernel_2489/2877460035.py:8: FutureWarning: A value is trying to be set on a copy of a DataFrame or Series through chained assignment using an inplace method.\n",
      "The behavior will change in pandas 3.0. This inplace method will never work because the intermediate object on which we are setting values always behaves as a copy.\n",
      "\n",
      "For example, when doing 'df[col].method(value, inplace=True)', try using 'df.method({col: value}, inplace=True)' or df[col] = df[col].method(value) instead, to perform the operation inplace on the original object.\n",
      "\n",
      "\n",
      "  df[\"MILES CLOCKED\"].replace(np.nan, median3, inplace=True)\n",
      "/var/folders/6q/mm054v6n5wv1_85ngy7f0b7w0000gn/T/ipykernel_2489/2877460035.py:9: FutureWarning: A value is trying to be set on a copy of a DataFrame or Series through chained assignment using an inplace method.\n",
      "The behavior will change in pandas 3.0. This inplace method will never work because the intermediate object on which we are setting values always behaves as a copy.\n",
      "\n",
      "For example, when doing 'df[col].method(value, inplace=True)', try using 'df.method({col: value}, inplace=True)' or df[col] = df[col].method(value) instead, to perform the operation inplace on the original object.\n",
      "\n",
      "\n",
      "  df[\"CAR AGE\"].replace(np.nan, median4, inplace=True)\n"
     ]
    }
   ],
   "source": [
    "median1 = df[\"INCOME\"].median()\n",
    "median2 = df[\"TRAVEL TIME\"].median()\n",
    "median3 = df[\"MILES CLOCKED\"].median()\n",
    "median4 = df[\"CAR AGE\"].median()\n",
    "\n",
    "df[\"INCOME\"].replace(np.nan, median1, inplace=True)\n",
    "df[\"TRAVEL TIME\"].replace(np.nan, median2, inplace=True)\n",
    "df[\"MILES CLOCKED\"].replace(np.nan, median3, inplace=True)\n",
    "df[\"CAR AGE\"].replace(np.nan, median4, inplace=True)"
   ]
  },
  {
   "cell_type": "markdown",
   "metadata": {},
   "source": [
    "**Replacing NULL values in Categorical Columns using Mode**"
   ]
  },
  {
   "cell_type": "code",
   "execution_count": 88,
   "metadata": {
    "ExecuteTime": {
     "end_time": "2020-04-08T17:43:19.472345Z",
     "start_time": "2020-04-08T17:43:19.458383Z"
    }
   },
   "outputs": [],
   "source": [
    "mode1 = df[\"SEX\"].mode().values[0]\n",
    "mode2 = df[\"MARITAL STATUS\"].mode().values[0]\n",
    "mode3 = df[\"EDUCATION\"].mode().values[0]\n",
    "mode4 = df[\"JOB\"].mode().values[0]\n",
    "mode5 = df[\"USE\"].mode().values[0]\n",
    "mode6 = df[\"CITY\"].mode().values[0]\n",
    "mode7 = df[\"CAR TYPE\"].mode().values[0]\n",
    "mode8 = df[\"POSTAL CODE\"].mode().values[0]\n",
    "\n",
    "df[\"SEX\"] = df[\"SEX\"].replace(np.nan, mode1)\n",
    "df[\"MARITAL STATUS\"] = df[\"MARITAL STATUS\"].replace(np.nan, mode2)\n",
    "df[\"EDUCATION\"] = df[\"EDUCATION\"].replace(np.nan, mode3)\n",
    "df[\"JOB\"] = df[\"JOB\"].replace(np.nan, mode4)\n",
    "df[\"USE\"] = df[\"USE\"].replace(np.nan, mode5)\n",
    "df[\"CAR TYPE\"] = df[\"CAR TYPE\"].replace(np.nan, mode7)\n",
    "df[\"CITY\"] = df[\"CITY\"].replace(np.nan, mode6)\n",
    "df[\"POSTAL CODE\"] = df[\"POSTAL CODE\"].replace(np.nan, mode6)"
   ]
  },
  {
   "cell_type": "code",
   "execution_count": 90,
   "metadata": {
    "ExecuteTime": {
     "end_time": "2020-04-08T17:43:19.990388Z",
     "start_time": "2020-04-08T17:43:19.979378Z"
    }
   },
   "outputs": [
    {
     "data": {
      "text/plain": [
       "INDEX             0\n",
       "INCOME            0\n",
       "MARITAL STATUS    0\n",
       "SEX               0\n",
       "EDUCATION         0\n",
       "JOB               0\n",
       "TRAVEL TIME       0\n",
       "USE               0\n",
       "MILES CLOCKED     0\n",
       "CAR TYPE          0\n",
       "CAR AGE           0\n",
       "CITY              0\n",
       "POSTAL CODE       3\n",
       "dtype: int64"
      ]
     },
     "execution_count": 90,
     "metadata": {},
     "output_type": "execute_result"
    }
   ],
   "source": [
    "# Check for missing value in any column\n",
    "df.isnull().sum()"
   ]
  },
  {
   "cell_type": "markdown",
   "metadata": {},
   "source": [
    "# Univariate Analysis"
   ]
  },
  {
   "cell_type": "code",
   "execution_count": 100,
   "metadata": {},
   "outputs": [
    {
     "name": "stderr",
     "output_type": "stream",
     "text": [
      "/var/folders/6q/mm054v6n5wv1_85ngy7f0b7w0000gn/T/ipykernel_2489/3354652714.py:2: UserWarning: \n",
      "\n",
      "`distplot` is a deprecated function and will be removed in seaborn v0.14.0.\n",
      "\n",
      "Please adapt your code to use either `displot` (a figure-level function with\n",
      "similar flexibility) or `histplot` (an axes-level function for histograms).\n",
      "\n",
      "For a guide to updating your code to use the new functions, please see\n",
      "https://gist.github.com/mwaskom/de44147ed2974457ad6372750bbe5751\n",
      "\n",
      "  sns.distplot(df.INCOME)\n"
     ]
    },
    {
     "data": {
      "image/png": "[encoded data removed]",
      "text/plain": [
       "<Figure size 640x480 with 1 Axes>"
      ]
     },
     "metadata": {},
     "output_type": "display_data"
    }
   ],
   "source": [
    "  # histogram of income\n",
    "sns.distplot(df.INCOME)\n",
    "plt.show()"
   ]
  },
  {
   "cell_type": "markdown",
   "metadata": {},
   "source": [
    "From above figure, we can say that the Income parameter is right skewed"
   ]
  },
  {
   "cell_type": "code",
   "execution_count": 28,
   "metadata": {},
   "outputs": [
    {
     "data": {
      "text/plain": [
       "<matplotlib.axes._subplots.AxesSubplot at 0x2bc2ec64f60>"
      ]
     },
     "execution_count": 28,
     "metadata": {},
     "output_type": "execute_result"
    },
    {
     "data": {
      "image/png": "[encoded data removed]",
      "text/plain": [
       "<Figure size 432x288 with 1 Axes>"
      ]
     },
     "metadata": {
      "needs_background": "light"
     },
     "output_type": "display_data"
    }
   ],
   "source": [
    "sns.countplot(df[\"EDUCATION\"],hue=df[\"SEX\"])   #countplot for Education wrt SEX"
   ]
  },
  {
   "cell_type": "markdown",
   "metadata": {},
   "source": [
    "From the above graph we can interpret that majority of the people are High School passouts and this is true for both Males and Females"
   ]
  },
  {
   "cell_type": "markdown",
   "metadata": {},
   "source": [
    "# Bivariate Analysis"
   ]
  },
  {
   "cell_type": "code",
   "execution_count": 29,
   "metadata": {
    "ExecuteTime": {
     "end_time": "2020-04-08T17:43:24.482727Z",
     "start_time": "2020-04-08T17:43:20.994414Z"
    }
   },
   "outputs": [
    {
     "data": {
      "image/png": "[encoded data removed]",
      "text/plain": [
       "<Figure size 900x900 with 30 Axes>"
      ]
     },
     "metadata": {
      "needs_background": "light"
     },
     "output_type": "display_data"
    }
   ],
   "source": [
    "    #Pairplot of all variables"
   ]
  },
  {
   "cell_type": "markdown",
   "metadata": {},
   "source": [
    "**In the above plot scatter diagrams are plotted for all the numerical columns in the dataset. A scatter plot is a visual representation of the degree of correlation between any two columns. The pair plot function in seaborn makes it very easy to generate joint scatter plots for all the columns in the data.**"
   ]
  },
  {
   "cell_type": "code",
   "execution_count": 30,
   "metadata": {
    "ExecuteTime": {
     "end_time": "2020-04-08T17:43:24.615385Z",
     "start_time": "2020-04-08T17:43:24.604411Z"
    }
   },
   "outputs": [
    {
     "data": {
      "text/html": [
       "<div>\n",
       "<style scoped>\n",
       "    .dataframe tbody tr th:only-of-type {\n",
       "        vertical-align: middle;\n",
       "    }\n",
       "\n",
       "    .dataframe tbody tr th {\n",
       "        vertical-align: top;\n",
       "    }\n",
       "\n",
       "    .dataframe thead th {\n",
       "        text-align: right;\n",
       "    }\n",
       "</style>\n",
       "<table border=\"1\" class=\"dataframe\">\n",
       "  <thead>\n",
       "    <tr style=\"text-align: right;\">\n",
       "      <th></th>\n",
       "      <th>INDEX</th>\n",
       "      <th>INCOME</th>\n",
       "      <th>TRAVEL TIME</th>\n",
       "      <th>MILES CLOCKED</th>\n",
       "      <th>CAR AGE</th>\n",
       "    </tr>\n",
       "  </thead>\n",
       "  <tbody>\n",
       "    <tr>\n",
       "      <th>INDEX</th>\n",
       "      <td>1.000000</td>\n",
       "      <td>-0.033551</td>\n",
       "      <td>0.018497</td>\n",
       "      <td>0.040433</td>\n",
       "      <td>-0.027206</td>\n",
       "    </tr>\n",
       "    <tr>\n",
       "      <th>INCOME</th>\n",
       "      <td>-0.033551</td>\n",
       "      <td>1.000000</td>\n",
       "      <td>0.059463</td>\n",
       "      <td>0.341234</td>\n",
       "      <td>0.264218</td>\n",
       "    </tr>\n",
       "    <tr>\n",
       "      <th>TRAVEL TIME</th>\n",
       "      <td>0.018497</td>\n",
       "      <td>0.059463</td>\n",
       "      <td>1.000000</td>\n",
       "      <td>0.023640</td>\n",
       "      <td>0.145489</td>\n",
       "    </tr>\n",
       "    <tr>\n",
       "      <th>MILES CLOCKED</th>\n",
       "      <td>0.040433</td>\n",
       "      <td>0.341234</td>\n",
       "      <td>0.023640</td>\n",
       "      <td>1.000000</td>\n",
       "      <td>0.129989</td>\n",
       "    </tr>\n",
       "    <tr>\n",
       "      <th>CAR AGE</th>\n",
       "      <td>-0.027206</td>\n",
       "      <td>0.264218</td>\n",
       "      <td>0.145489</td>\n",
       "      <td>0.129989</td>\n",
       "      <td>1.000000</td>\n",
       "    </tr>\n",
       "  </tbody>\n",
       "</table>\n",
       "</div>"
      ],
      "text/plain": [
       "                  INDEX    INCOME  TRAVEL TIME  MILES CLOCKED   CAR AGE\n",
       "INDEX          1.000000 -0.033551     0.018497       0.040433 -0.027206\n",
       "INCOME        -0.033551  1.000000     0.059463       0.341234  0.264218\n",
       "TRAVEL TIME    0.018497  0.059463     1.000000       0.023640  0.145489\n",
       "MILES CLOCKED  0.040433  0.341234     0.023640       1.000000  0.129989\n",
       "CAR AGE       -0.027206  0.264218     0.145489       0.129989  1.000000"
      ]
     },
     "execution_count": 30,
     "metadata": {},
     "output_type": "execute_result"
    }
   ],
   "source": [
    "df.corr()"
   ]
  },
  {
   "cell_type": "markdown",
   "metadata": {},
   "source": [
    "## Correlation Heatmap"
   ]
  },
  {
   "cell_type": "code",
   "execution_count": 31,
   "metadata": {
    "ExecuteTime": {
     "end_time": "2020-04-08T17:43:29.310359Z",
     "start_time": "2020-04-08T17:43:28.805698Z"
    }
   },
   "outputs": [
    {
     "data": {
      "image/png": "[encoded data removed]",
      "text/plain": [
       "<Figure size 864x504 with 2 Axes>"
      ]
     },
     "metadata": {
      "needs_background": "light"
     },
     "output_type": "display_data"
    }
   ],
   "source": []
  },
  {
   "cell_type": "markdown",
   "metadata": {},
   "source": [
    "# Normalizing and Scaling"
   ]
  },
  {
   "cell_type": "markdown",
   "metadata": {},
   "source": [
    "**Often the variables of the data set are of different scales i.e. one variable is in millions and other in only 100. For e.g. in our data set Income is having values in thousands and age in just two digits. Since the data in these variables are of different scales, it is tough to compare these variables.**\n",
    "\n",
    "**Feature scaling (also known as data normalization) is the method used to standardize the range of features of data. Since, the range of values of data may vary widely, it becomes a necessary step in data preprocessing while using machine learning algorithms.**\n",
    "\n",
    "**In this method, we convert variables with different scales of measurements into a single scale.**\n",
    "\n",
    "**StandardScaler normalizes the data using the formula (x-mean)/standard deviation.**\n",
    "\n",
    "**We will be doing this only for the numerical variables.**"
   ]
  },
  {
   "cell_type": "code",
   "execution_count": 102,
   "metadata": {
    "ExecuteTime": {
     "end_time": "2020-04-08T17:43:31.510840Z",
     "start_time": "2020-04-08T17:43:30.620936Z"
    }
   },
   "outputs": [
    {
     "data": {
      "text/html": [
       "<style>#sk-container-id-1 {\n",
       "  /* Definition of color scheme common for light and dark mode */\n",
       "  --sklearn-color-text: black;\n",
       "  --sklearn-color-line: gray;\n",
       "  /* Definition of color scheme for unfitted estimators */\n",
       "  --sklearn-color-unfitted-level-0: #fff5e6;\n",
       "  --sklearn-color-unfitted-level-1: #f6e4d2;\n",
       "  --sklearn-color-unfitted-level-2: #ffe0b3;\n",
       "  --sklearn-color-unfitted-level-3: chocolate;\n",
       "  /* Definition of color scheme for fitted estimators */\n",
       "  --sklearn-color-fitted-level-0: #f0f8ff;\n",
       "  --sklearn-color-fitted-level-1: #d4ebff;\n",
       "  --sklearn-color-fitted-level-2: #b3dbfd;\n",
       "  --sklearn-color-fitted-level-3: cornflowerblue;\n",
       "\n",
       "  /* Specific color for light theme */\n",
       "  --sklearn-color-text-on-default-background: var(--sg-text-color, var(--theme-code-foreground, var(--jp-content-font-color1, black)));\n",
       "  --sklearn-color-background: var(--sg-background-color, var(--theme-background, var(--jp-layout-color0, white)));\n",
       "  --sklearn-color-border-box: var(--sg-text-color, var(--theme-code-foreground, var(--jp-content-font-color1, black)));\n",
       "  --sklearn-color-icon: #696969;\n",
       "\n",
       "  @media (prefers-color-scheme: dark) {\n",
       "    /* Redefinition of color scheme for dark theme */\n",
       "    --sklearn-color-text-on-default-background: var(--sg-text-color, var(--theme-code-foreground, var(--jp-content-font-color1, white)));\n",
       "    --sklearn-color-background: var(--sg-background-color, var(--theme-background, var(--jp-layout-color0, #111)));\n",
       "    --sklearn-color-border-box: var(--sg-text-color, var(--theme-code-foreground, var(--jp-content-font-color1, white)));\n",
       "    --sklearn-color-icon: #878787;\n",
       "  }\n",
       "}\n",
       "\n",
       "#sk-container-id-1 {\n",
       "  color: var(--sklearn-color-text);\n",
       "}\n",
       "\n",
       "#sk-container-id-1 pre {\n",
       "  padding: 0;\n",
       "}\n",
       "\n",
       "#sk-container-id-1 input.sk-hidden--visually {\n",
       "  border: 0;\n",
       "  clip: rect(1px 1px 1px 1px);\n",
       "  clip: rect(1px, 1px, 1px, 1px);\n",
       "  height: 1px;\n",
       "  margin: -1px;\n",
       "  overflow: hidden;\n",
       "  padding: 0;\n",
       "  position: absolute;\n",
       "  width: 1px;\n",
       "}\n",
       "\n",
       "#sk-container-id-1 div.sk-dashed-wrapped {\n",
       "  border: 1px dashed var(--sklearn-color-line);\n",
       "  margin: 0 0.4em 0.5em 0.4em;\n",
       "  box-sizing: border-box;\n",
       "  padding-bottom: 0.4em;\n",
       "  background-color: var(--sklearn-color-background);\n",
       "}\n",
       "\n",
       "#sk-container-id-1 div.sk-container {\n",
       "  /* jupyter's `normalize.less` sets `[hidden] { display: none; }`\n",
       "     but bootstrap.min.css set `[hidden] { display: none !important; }`\n",
       "     so we also need the `!important` here to be able to override the\n",
       "     default hidden behavior on the sphinx rendered scikit-learn.org.\n",
       "     See: https://github.com/scikit-learn/scikit-learn/issues/21755 */\n",
       "  display: inline-block !important;\n",
       "  position: relative;\n",
       "}\n",
       "\n",
       "#sk-container-id-1 div.sk-text-repr-fallback {\n",
       "  display: none;\n",
       "}\n",
       "\n",
       "div.sk-parallel-item,\n",
       "div.sk-serial,\n",
       "div.sk-item {\n",
       "  /* draw centered vertical line to link estimators */\n",
       "  background-image: linear-gradient(var(--sklearn-color-text-on-default-background), var(--sklearn-color-text-on-default-background));\n",
       "  background-size: 2px 100%;\n",
       "  background-repeat: no-repeat;\n",
       "  background-position: center center;\n",
       "}\n",
       "\n",
       "/* Parallel-specific style estimator block */\n",
       "\n",
       "#sk-container-id-1 div.sk-parallel-item::after {\n",
       "  content: \"\";\n",
       "  width: 100%;\n",
       "  border-bottom: 2px solid var(--sklearn-color-text-on-default-background);\n",
       "  flex-grow: 1;\n",
       "}\n",
       "\n",
       "#sk-container-id-1 div.sk-parallel {\n",
       "  display: flex;\n",
       "  align-items: stretch;\n",
       "  justify-content: center;\n",
       "  background-color: var(--sklearn-color-background);\n",
       "  position: relative;\n",
       "}\n",
       "\n",
       "#sk-container-id-1 div.sk-parallel-item {\n",
       "  display: flex;\n",
       "  flex-direction: column;\n",
       "}\n",
       "\n",
       "#sk-container-id-1 div.sk-parallel-item:first-child::after {\n",
       "  align-self: flex-end;\n",
       "  width: 50%;\n",
       "}\n",
       "\n",
       "#sk-container-id-1 div.sk-parallel-item:last-child::after {\n",
       "  align-self: flex-start;\n",
       "  width: 50%;\n",
       "}\n",
       "\n",
       "#sk-container-id-1 div.sk-parallel-item:only-child::after {\n",
       "  width: 0;\n",
       "}\n",
       "\n",
       "/* Serial-specific style estimator block */\n",
       "\n",
       "#sk-container-id-1 div.sk-serial {\n",
       "  display: flex;\n",
       "  flex-direction: column;\n",
       "  align-items: center;\n",
       "  background-color: var(--sklearn-color-background);\n",
       "  padding-right: 1em;\n",
       "  padding-left: 1em;\n",
       "}\n",
       "\n",
       "\n",
       "/* Toggleable style: style used for estimator/Pipeline/ColumnTransformer box that is\n",
       "clickable and can be expanded/collapsed.\n",
       "- Pipeline and ColumnTransformer use this feature and define the default style\n",
       "- Estimators will overwrite some part of the style using the `sk-estimator` class\n",
       "*/\n",
       "\n",
       "/* Pipeline and ColumnTransformer style (default) */\n",
       "\n",
       "#sk-container-id-1 div.sk-toggleable {\n",
       "  /* Default theme specific background. It is overwritten whether we have a\n",
       "  specific estimator or a Pipeline/ColumnTransformer */\n",
       "  background-color: var(--sklearn-color-background);\n",
       "}\n",
       "\n",
       "/* Toggleable label */\n",
       "#sk-container-id-1 label.sk-toggleable__label {\n",
       "  cursor: pointer;\n",
       "  display: block;\n",
       "  width: 100%;\n",
       "  margin-bottom: 0;\n",
       "  padding: 0.5em;\n",
       "  box-sizing: border-box;\n",
       "  text-align: center;\n",
       "}\n",
       "\n",
       "#sk-container-id-1 label.sk-toggleable__label-arrow:before {\n",
       "  /* Arrow on the left of the label */\n",
       "  content: \"▸\";\n",
       "  float: left;\n",
       "  margin-right: 0.25em;\n",
       "  color: var(--sklearn-color-icon);\n",
       "}\n",
       "\n",
       "#sk-container-id-1 label.sk-toggleable__label-arrow:hover:before {\n",
       "  color: var(--sklearn-color-text);\n",
       "}\n",
       "\n",
       "/* Toggleable content - dropdown */\n",
       "\n",
       "#sk-container-id-1 div.sk-toggleable__content {\n",
       "  max-height: 0;\n",
       "  max-width: 0;\n",
       "  overflow: hidden;\n",
       "  text-align: left;\n",
       "  /* unfitted */\n",
       "  background-color: var(--sklearn-color-unfitted-level-0);\n",
       "}\n",
       "\n",
       "#sk-container-id-1 div.sk-toggleable__content.fitted {\n",
       "  /* fitted */\n",
       "  background-color: var(--sklearn-color-fitted-level-0);\n",
       "}\n",
       "\n",
       "#sk-container-id-1 div.sk-toggleable__content pre {\n",
       "  margin: 0.2em;\n",
       "  border-radius: 0.25em;\n",
       "  color: var(--sklearn-color-text);\n",
       "  /* unfitted */\n",
       "  background-color: var(--sklearn-color-unfitted-level-0);\n",
       "}\n",
       "\n",
       "#sk-container-id-1 div.sk-toggleable__content.fitted pre {\n",
       "  /* unfitted */\n",
       "  background-color: var(--sklearn-color-fitted-level-0);\n",
       "}\n",
       "\n",
       "#sk-container-id-1 input.sk-toggleable__control:checked~div.sk-toggleable__content {\n",
       "  /* Expand drop-down */\n",
       "  max-height: 200px;\n",
       "  max-width: 100%;\n",
       "  overflow: auto;\n",
       "}\n",
       "\n",
       "#sk-container-id-1 input.sk-toggleable__control:checked~label.sk-toggleable__label-arrow:before {\n",
       "  content: \"▾\";\n",
       "}\n",
       "\n",
       "/* Pipeline/ColumnTransformer-specific style */\n",
       "\n",
       "#sk-container-id-1 div.sk-label input.sk-toggleable__control:checked~label.sk-toggleable__label {\n",
       "  color: var(--sklearn-color-text);\n",
       "  background-color: var(--sklearn-color-unfitted-level-2);\n",
       "}\n",
       "\n",
       "#sk-container-id-1 div.sk-label.fitted input.sk-toggleable__control:checked~label.sk-toggleable__label {\n",
       "  background-color: var(--sklearn-color-fitted-level-2);\n",
       "}\n",
       "\n",
       "/* Estimator-specific style */\n",
       "\n",
       "/* Colorize estimator box */\n",
       "#sk-container-id-1 div.sk-estimator input.sk-toggleable__control:checked~label.sk-toggleable__label {\n",
       "  /* unfitted */\n",
       "  background-color: var(--sklearn-color-unfitted-level-2);\n",
       "}\n",
       "\n",
       "#sk-container-id-1 div.sk-estimator.fitted input.sk-toggleable__control:checked~label.sk-toggleable__label {\n",
       "  /* fitted */\n",
       "  background-color: var(--sklearn-color-fitted-level-2);\n",
       "}\n",
       "\n",
       "#sk-container-id-1 div.sk-label label.sk-toggleable__label,\n",
       "#sk-container-id-1 div.sk-label label {\n",
       "  /* The background is the default theme color */\n",
       "  color: var(--sklearn-color-text-on-default-background);\n",
       "}\n",
       "\n",
       "/* On hover, darken the color of the background */\n",
       "#sk-container-id-1 div.sk-label:hover label.sk-toggleable__label {\n",
       "  color: var(--sklearn-color-text);\n",
       "  background-color: var(--sklearn-color-unfitted-level-2);\n",
       "}\n",
       "\n",
       "/* Label box, darken color on hover, fitted */\n",
       "#sk-container-id-1 div.sk-label.fitted:hover label.sk-toggleable__label.fitted {\n",
       "  color: var(--sklearn-color-text);\n",
       "  background-color: var(--sklearn-color-fitted-level-2);\n",
       "}\n",
       "\n",
       "/* Estimator label */\n",
       "\n",
       "#sk-container-id-1 div.sk-label label {\n",
       "  font-family: monospace;\n",
       "  font-weight: bold;\n",
       "  display: inline-block;\n",
       "  line-height: 1.2em;\n",
       "}\n",
       "\n",
       "#sk-container-id-1 div.sk-label-container {\n",
       "  text-align: center;\n",
       "}\n",
       "\n",
       "/* Estimator-specific */\n",
       "#sk-container-id-1 div.sk-estimator {\n",
       "  font-family: monospace;\n",
       "  border: 1px dotted var(--sklearn-color-border-box);\n",
       "  border-radius: 0.25em;\n",
       "  box-sizing: border-box;\n",
       "  margin-bottom: 0.5em;\n",
       "  /* unfitted */\n",
       "  background-color: var(--sklearn-color-unfitted-level-0);\n",
       "}\n",
       "\n",
       "#sk-container-id-1 div.sk-estimator.fitted {\n",
       "  /* fitted */\n",
       "  background-color: var(--sklearn-color-fitted-level-0);\n",
       "}\n",
       "\n",
       "/* on hover */\n",
       "#sk-container-id-1 div.sk-estimator:hover {\n",
       "  /* unfitted */\n",
       "  background-color: var(--sklearn-color-unfitted-level-2);\n",
       "}\n",
       "\n",
       "#sk-container-id-1 div.sk-estimator.fitted:hover {\n",
       "  /* fitted */\n",
       "  background-color: var(--sklearn-color-fitted-level-2);\n",
       "}\n",
       "\n",
       "/* Specification for estimator info (e.g. \"i\" and \"?\") */\n",
       "\n",
       "/* Common style for \"i\" and \"?\" */\n",
       "\n",
       ".sk-estimator-doc-link,\n",
       "a:link.sk-estimator-doc-link,\n",
       "a:visited.sk-estimator-doc-link {\n",
       "  float: right;\n",
       "  font-size: smaller;\n",
       "  line-height: 1em;\n",
       "  font-family: monospace;\n",
       "  background-color: var(--sklearn-color-background);\n",
       "  border-radius: 1em;\n",
       "  height: 1em;\n",
       "  width: 1em;\n",
       "  text-decoration: none !important;\n",
       "  margin-left: 1ex;\n",
       "  /* unfitted */\n",
       "  border: var(--sklearn-color-unfitted-level-1) 1pt solid;\n",
       "  color: var(--sklearn-color-unfitted-level-1);\n",
       "}\n",
       "\n",
       ".sk-estimator-doc-link.fitted,\n",
       "a:link.sk-estimator-doc-link.fitted,\n",
       "a:visited.sk-estimator-doc-link.fitted {\n",
       "  /* fitted */\n",
       "  border: var(--sklearn-color-fitted-level-1) 1pt solid;\n",
       "  color: var(--sklearn-color-fitted-level-1);\n",
       "}\n",
       "\n",
       "/* On hover */\n",
       "div.sk-estimator:hover .sk-estimator-doc-link:hover,\n",
       ".sk-estimator-doc-link:hover,\n",
       "div.sk-label-container:hover .sk-estimator-doc-link:hover,\n",
       ".sk-estimator-doc-link:hover {\n",
       "  /* unfitted */\n",
       "  background-color: var(--sklearn-color-unfitted-level-3);\n",
       "  color: var(--sklearn-color-background);\n",
       "  text-decoration: none;\n",
       "}\n",
       "\n",
       "div.sk-estimator.fitted:hover .sk-estimator-doc-link.fitted:hover,\n",
       ".sk-estimator-doc-link.fitted:hover,\n",
       "div.sk-label-container:hover .sk-estimator-doc-link.fitted:hover,\n",
       ".sk-estimator-doc-link.fitted:hover {\n",
       "  /* fitted */\n",
       "  background-color: var(--sklearn-color-fitted-level-3);\n",
       "  color: var(--sklearn-color-background);\n",
       "  text-decoration: none;\n",
       "}\n",
       "\n",
       "/* Span, style for the box shown on hovering the info icon */\n",
       ".sk-estimator-doc-link span {\n",
       "  display: none;\n",
       "  z-index: 9999;\n",
       "  position: relative;\n",
       "  font-weight: normal;\n",
       "  right: .2ex;\n",
       "  padding: .5ex;\n",
       "  margin: .5ex;\n",
       "  width: min-content;\n",
       "  min-width: 20ex;\n",
       "  max-width: 50ex;\n",
       "  color: var(--sklearn-color-text);\n",
       "  box-shadow: 2pt 2pt 4pt #999;\n",
       "  /* unfitted */\n",
       "  background: var(--sklearn-color-unfitted-level-0);\n",
       "  border: .5pt solid var(--sklearn-color-unfitted-level-3);\n",
       "}\n",
       "\n",
       ".sk-estimator-doc-link.fitted span {\n",
       "  /* fitted */\n",
       "  background: var(--sklearn-color-fitted-level-0);\n",
       "  border: var(--sklearn-color-fitted-level-3);\n",
       "}\n",
       "\n",
       ".sk-estimator-doc-link:hover span {\n",
       "  display: block;\n",
       "}\n",
       "\n",
       "/* \"?\"-specific style due to the `<a>` HTML tag */\n",
       "\n",
       "#sk-container-id-1 a.estimator_doc_link {\n",
       "  float: right;\n",
       "  font-size: 1rem;\n",
       "  line-height: 1em;\n",
       "  font-family: monospace;\n",
       "  background-color: var(--sklearn-color-background);\n",
       "  border-radius: 1rem;\n",
       "  height: 1rem;\n",
       "  width: 1rem;\n",
       "  text-decoration: none;\n",
       "  /* unfitted */\n",
       "  color: var(--sklearn-color-unfitted-level-1);\n",
       "  border: var(--sklearn-color-unfitted-level-1) 1pt solid;\n",
       "}\n",
       "\n",
       "#sk-container-id-1 a.estimator_doc_link.fitted {\n",
       "  /* fitted */\n",
       "  border: var(--sklearn-color-fitted-level-1) 1pt solid;\n",
       "  color: var(--sklearn-color-fitted-level-1);\n",
       "}\n",
       "\n",
       "/* On hover */\n",
       "#sk-container-id-1 a.estimator_doc_link:hover {\n",
       "  /* unfitted */\n",
       "  background-color: var(--sklearn-color-unfitted-level-3);\n",
       "  color: var(--sklearn-color-background);\n",
       "  text-decoration: none;\n",
       "}\n",
       "\n",
       "#sk-container-id-1 a.estimator_doc_link.fitted:hover {\n",
       "  /* fitted */\n",
       "  background-color: var(--sklearn-color-fitted-level-3);\n",
       "}\n",
       "</style><div id=\"sk-container-id-1\" class=\"sk-top-container\"><div class=\"sk-text-repr-fallback\"><pre>StandardScaler()</pre><b>In a Jupyter environment, please rerun this cell to show the HTML representation or trust the notebook. <br />On GitHub, the HTML representation is unable to render, please try loading this page with nbviewer.org.</b></div><div class=\"sk-container\" hidden><div class=\"sk-item\"><div class=\"sk-estimator  sk-toggleable\"><input class=\"sk-toggleable__control sk-hidden--visually\" id=\"sk-estimator-id-1\" type=\"checkbox\" checked><label for=\"sk-estimator-id-1\" class=\"sk-toggleable__label  sk-toggleable__label-arrow \">&nbsp;&nbsp;StandardScaler<a class=\"sk-estimator-doc-link \" rel=\"noreferrer\" target=\"_blank\" href=\"https://scikit-learn.org/1.5/modules/generated/sklearn.preprocessing.StandardScaler.html\">?<span>Documentation for StandardScaler</span></a><span class=\"sk-estimator-doc-link \">i<span>Not fitted</span></span></label><div class=\"sk-toggleable__content \"><pre>StandardScaler()</pre></div> </div></div></div></div>"
      ],
      "text/plain": [
       "StandardScaler()"
      ]
     },
     "execution_count": 102,
     "metadata": {},
     "output_type": "execute_result"
    }
   ],
   "source": [
    "#Scales the data. Essentially returns the z-scores of every attribute\n",
    "\n",
    "from sklearn.preprocessing import StandardScaler\n",
    "std_scale = StandardScaler()\n",
    "std_scale"
   ]
  },
  {
   "cell_type": "code",
   "execution_count": 104,
   "metadata": {
    "ExecuteTime": {
     "end_time": "2020-04-08T17:43:31.653530Z",
     "start_time": "2020-04-08T17:43:31.637491Z"
    }
   },
   "outputs": [],
   "source": [
    "df['INCOME'] = std_scale.fit_transform(df[['INCOME']])\n",
    "df['TRAVEL TIME'] = std_scale.fit_transform(df[['TRAVEL TIME']])\n",
    "df['CAR AGE'] = std_scale.fit_transform(df[['CAR AGE']])\n",
    "df['MILES CLOCKED'] = std_scale.fit_transform(df[['MILES CLOCKED']])"
   ]
  },
  {
   "cell_type": "code",
   "execution_count": 106,
   "metadata": {
    "ExecuteTime": {
     "end_time": "2020-04-08T17:43:31.825651Z",
     "start_time": "2020-04-08T17:43:31.769224Z"
    }
   },
   "outputs": [
    {
     "data": {
      "text/html": [
       "<div>\n",
       "<style scoped>\n",
       "    .dataframe tbody tr th:only-of-type {\n",
       "        vertical-align: middle;\n",
       "    }\n",
       "\n",
       "    .dataframe tbody tr th {\n",
       "        vertical-align: top;\n",
       "    }\n",
       "\n",
       "    .dataframe thead th {\n",
       "        text-align: right;\n",
       "    }\n",
       "</style>\n",
       "<table border=\"1\" class=\"dataframe\">\n",
       "  <thead>\n",
       "    <tr style=\"text-align: right;\">\n",
       "      <th></th>\n",
       "      <th>INDEX</th>\n",
       "      <th>INCOME</th>\n",
       "      <th>MARITAL STATUS</th>\n",
       "      <th>SEX</th>\n",
       "      <th>EDUCATION</th>\n",
       "      <th>JOB</th>\n",
       "      <th>TRAVEL TIME</th>\n",
       "      <th>USE</th>\n",
       "      <th>MILES CLOCKED</th>\n",
       "      <th>CAR TYPE</th>\n",
       "      <th>CAR AGE</th>\n",
       "      <th>CITY</th>\n",
       "      <th>POSTAL CODE</th>\n",
       "    </tr>\n",
       "  </thead>\n",
       "  <tbody>\n",
       "    <tr>\n",
       "      <th>0</th>\n",
       "      <td>1</td>\n",
       "      <td>0.0</td>\n",
       "      <td>No</td>\n",
       "      <td>F</td>\n",
       "      <td>Bachelors</td>\n",
       "      <td>Blue Collar</td>\n",
       "      <td>0.813273</td>\n",
       "      <td>Commercial</td>\n",
       "      <td>0.529946</td>\n",
       "      <td>Sports Car</td>\n",
       "      <td>0.137267</td>\n",
       "      <td>Texas</td>\n",
       "      <td>42420.0</td>\n",
       "    </tr>\n",
       "    <tr>\n",
       "      <th>1</th>\n",
       "      <td>2</td>\n",
       "      <td>0.0</td>\n",
       "      <td>No</td>\n",
       "      <td>M</td>\n",
       "      <td>High School</td>\n",
       "      <td>Blue Collar</td>\n",
       "      <td>-0.981463</td>\n",
       "      <td>Private</td>\n",
       "      <td>0.748411</td>\n",
       "      <td>Minivan</td>\n",
       "      <td>-1.052842</td>\n",
       "      <td>Texas</td>\n",
       "      <td>42420.0</td>\n",
       "    </tr>\n",
       "    <tr>\n",
       "      <th>2</th>\n",
       "      <td>3</td>\n",
       "      <td>0.0</td>\n",
       "      <td>No</td>\n",
       "      <td>F</td>\n",
       "      <td>Bachelors</td>\n",
       "      <td>Clerical</td>\n",
       "      <td>-0.048886</td>\n",
       "      <td>Private</td>\n",
       "      <td>-0.137830</td>\n",
       "      <td>SUV</td>\n",
       "      <td>-1.052842</td>\n",
       "      <td>Texas</td>\n",
       "      <td>42420.0</td>\n",
       "    </tr>\n",
       "    <tr>\n",
       "      <th>3</th>\n",
       "      <td>4</td>\n",
       "      <td>0.0</td>\n",
       "      <td>No</td>\n",
       "      <td>F</td>\n",
       "      <td>High School</td>\n",
       "      <td>Lawyer</td>\n",
       "      <td>-1.351394</td>\n",
       "      <td>Private</td>\n",
       "      <td>0.656656</td>\n",
       "      <td>Sports Car</td>\n",
       "      <td>0.930674</td>\n",
       "      <td>Texas</td>\n",
       "      <td>42420.0</td>\n",
       "    </tr>\n",
       "    <tr>\n",
       "      <th>4</th>\n",
       "      <td>5</td>\n",
       "      <td>0.0</td>\n",
       "      <td>No</td>\n",
       "      <td>M</td>\n",
       "      <td>High School</td>\n",
       "      <td>Blue Collar</td>\n",
       "      <td>0.007325</td>\n",
       "      <td>Commercial</td>\n",
       "      <td>2.118917</td>\n",
       "      <td>Panel Truck</td>\n",
       "      <td>0.732322</td>\n",
       "      <td>Texas</td>\n",
       "      <td>42420.0</td>\n",
       "    </tr>\n",
       "  </tbody>\n",
       "</table>\n",
       "</div>"
      ],
      "text/plain": [
       "   INDEX  INCOME MARITAL STATUS SEX    EDUCATION          JOB  TRAVEL TIME  \\\n",
       "0      1     0.0             No   F    Bachelors  Blue Collar     0.813273   \n",
       "1      2     0.0             No   M  High School  Blue Collar    -0.981463   \n",
       "2      3     0.0             No   F    Bachelors     Clerical    -0.048886   \n",
       "3      4     0.0             No   F  High School       Lawyer    -1.351394   \n",
       "4      5     0.0             No   M  High School  Blue Collar     0.007325   \n",
       "\n",
       "          USE  MILES CLOCKED     CAR TYPE   CAR AGE   CITY POSTAL CODE  \n",
       "0  Commercial       0.529946   Sports Car  0.137267  Texas     42420.0  \n",
       "1     Private       0.748411      Minivan -1.052842  Texas     42420.0  \n",
       "2     Private      -0.137830          SUV -1.052842  Texas     42420.0  \n",
       "3     Private       0.656656   Sports Car  0.930674  Texas     42420.0  \n",
       "4  Commercial       2.118917  Panel Truck  0.732322  Texas     42420.0  "
      ]
     },
     "execution_count": 106,
     "metadata": {},
     "output_type": "execute_result"
    }
   ],
   "source": [
    "df.head()"
   ]
  },
  {
   "cell_type": "markdown",
   "metadata": {},
   "source": [
    "**If you look at the variables INCOME, TRAVEL TIME and CAR AGE, all has been normalized and scaled in one scale now.**"
   ]
  },
  {
   "cell_type": "markdown",
   "metadata": {},
   "source": [
    "# ENCODING\n",
    "\n",
    "**One-Hot-Encoding is used to create dummy variables to replace the categories in a categorical variable into features of each category and represent it using 1 or 0 based on the presence or absence of the categorical value in the record.**\n",
    "\n",
    "**This is required to do since the machine learning algorithms only works on the numerical data. That is why there is a need to convert the categorical column into numerical one.**\n",
    "\n",
    "**get_dummies is the method which creates dummy variable for each categorical variable.**\n",
    "\n",
    "**It is considered a good practice to set parameter `drop_first` as `True` whenever get_dummies is used. It reduces the chances of multicollinearity which will be covered in coming courses and the number of features are also less as compared to `drop_first=False`**"
   ]
  },
  {
   "cell_type": "code",
   "execution_count": 110,
   "metadata": {
    "ExecuteTime": {
     "end_time": "2020-04-08T17:43:33.386403Z",
     "start_time": "2020-04-08T17:43:33.363466Z"
    }
   },
   "outputs": [
    {
     "data": {
      "text/plain": [
       "Index(['INDEX', 'INCOME', 'MARITAL STATUS', 'SEX', 'EDUCATION', 'JOB',\n",
       "       'TRAVEL TIME', 'USE', 'MILES CLOCKED', 'CAR TYPE', 'CAR AGE', 'CITY',\n",
       "       'POSTAL CODE'],\n",
       "      dtype='object')"
      ]
     },
     "execution_count": 110,
     "metadata": {},
     "output_type": "execute_result"
    }
   ],
   "source": [
    "df.columns"
   ]
  },
  {
   "cell_type": "code",
   "execution_count": null,
   "metadata": {},
   "outputs": [],
   "source": []
  },
  {
   "cell_type": "code",
   "execution_count": null,
   "metadata": {},
   "outputs": [],
   "source": []
  },
  {
   "cell_type": "code",
   "execution_count": 116,
   "metadata": {},
   "outputs": [],
   "source": [
    "dummies=pd.(df[['MARITALget_dummies STATUS', 'SEX', 'EDUCATION',\n",
    "                           'JOB','USE','CAR TYPE','CITY']],\n",
    "                       columns = ['MARITAL STATUS', 'SEX', 'EDUCATION',\n",
    "                                  'JOB','USE','CAR TYPE','CITY'],\n",
    "                       prefix = ['married','sex','education','job',\n",
    "                                 'use','cartype','city'],\n",
    "                       drop_first=True).head()"
   ]
  },
  {
   "cell_type": "code",
   "execution_count": 118,
   "metadata": {
    "ExecuteTime": {
     "end_time": "2020-04-08T17:43:33.906006Z",
     "start_time": "2020-04-08T17:43:33.892044Z"
    }
   },
   "outputs": [],
   "source": [
    "columns=[\"MARITAL STATUS\", \"SEX\",\"EDUCATION\",\"JOB\",\"USE\",\"CAR TYPE\",\"CITY\"]\n",
    "df = pd.concat([df, dummies], axis=1)\n",
    "\n",
    "# drop original column \"fuel-type\" from \"df\"\n"
   ]
  },
  {
   "cell_type": "code",
   "execution_count": 120,
   "metadata": {
    "ExecuteTime": {
     "end_time": "2020-04-08T17:43:34.404094Z",
     "start_time": "2020-04-08T17:43:34.374215Z"
    }
   },
   "outputs": [
    {
     "data": {
      "text/html": [
       "<div>\n",
       "<style scoped>\n",
       "    .dataframe tbody tr th:only-of-type {\n",
       "        vertical-align: middle;\n",
       "    }\n",
       "\n",
       "    .dataframe tbody tr th {\n",
       "        vertical-align: top;\n",
       "    }\n",
       "\n",
       "    .dataframe thead th {\n",
       "        text-align: right;\n",
       "    }\n",
       "</style>\n",
       "<table border=\"1\" class=\"dataframe\">\n",
       "  <thead>\n",
       "    <tr style=\"text-align: right;\">\n",
       "      <th></th>\n",
       "      <th>INDEX</th>\n",
       "      <th>INCOME</th>\n",
       "      <th>MARITAL STATUS</th>\n",
       "      <th>SEX</th>\n",
       "      <th>EDUCATION</th>\n",
       "      <th>JOB</th>\n",
       "      <th>TRAVEL TIME</th>\n",
       "      <th>USE</th>\n",
       "      <th>MILES CLOCKED</th>\n",
       "      <th>CAR TYPE</th>\n",
       "      <th>...</th>\n",
       "      <th>city_Houston</th>\n",
       "      <th>city_Las Vegas</th>\n",
       "      <th>city_Los Angeles</th>\n",
       "      <th>city_New Albany</th>\n",
       "      <th>city_New York City</th>\n",
       "      <th>city_Philadelphia</th>\n",
       "      <th>city_San Francisco</th>\n",
       "      <th>city_Seattle</th>\n",
       "      <th>city_Texas</th>\n",
       "      <th>city_Washington</th>\n",
       "    </tr>\n",
       "  </thead>\n",
       "  <tbody>\n",
       "    <tr>\n",
       "      <th>0</th>\n",
       "      <td>1</td>\n",
       "      <td>0.0</td>\n",
       "      <td>No</td>\n",
       "      <td>F</td>\n",
       "      <td>Bachelors</td>\n",
       "      <td>Blue Collar</td>\n",
       "      <td>0.813273</td>\n",
       "      <td>Commercial</td>\n",
       "      <td>0.529946</td>\n",
       "      <td>Sports Car</td>\n",
       "      <td>...</td>\n",
       "      <td>False</td>\n",
       "      <td>False</td>\n",
       "      <td>False</td>\n",
       "      <td>False</td>\n",
       "      <td>False</td>\n",
       "      <td>False</td>\n",
       "      <td>False</td>\n",
       "      <td>False</td>\n",
       "      <td>True</td>\n",
       "      <td>False</td>\n",
       "    </tr>\n",
       "    <tr>\n",
       "      <th>1</th>\n",
       "      <td>2</td>\n",
       "      <td>0.0</td>\n",
       "      <td>No</td>\n",
       "      <td>M</td>\n",
       "      <td>High School</td>\n",
       "      <td>Blue Collar</td>\n",
       "      <td>-0.981463</td>\n",
       "      <td>Private</td>\n",
       "      <td>0.748411</td>\n",
       "      <td>Minivan</td>\n",
       "      <td>...</td>\n",
       "      <td>False</td>\n",
       "      <td>False</td>\n",
       "      <td>False</td>\n",
       "      <td>False</td>\n",
       "      <td>False</td>\n",
       "      <td>False</td>\n",
       "      <td>False</td>\n",
       "      <td>False</td>\n",
       "      <td>True</td>\n",
       "      <td>False</td>\n",
       "    </tr>\n",
       "    <tr>\n",
       "      <th>2</th>\n",
       "      <td>3</td>\n",
       "      <td>0.0</td>\n",
       "      <td>No</td>\n",
       "      <td>F</td>\n",
       "      <td>Bachelors</td>\n",
       "      <td>Clerical</td>\n",
       "      <td>-0.048886</td>\n",
       "      <td>Private</td>\n",
       "      <td>-0.137830</td>\n",
       "      <td>SUV</td>\n",
       "      <td>...</td>\n",
       "      <td>False</td>\n",
       "      <td>False</td>\n",
       "      <td>False</td>\n",
       "      <td>False</td>\n",
       "      <td>False</td>\n",
       "      <td>False</td>\n",
       "      <td>False</td>\n",
       "      <td>False</td>\n",
       "      <td>True</td>\n",
       "      <td>False</td>\n",
       "    </tr>\n",
       "    <tr>\n",
       "      <th>3</th>\n",
       "      <td>4</td>\n",
       "      <td>0.0</td>\n",
       "      <td>No</td>\n",
       "      <td>F</td>\n",
       "      <td>High School</td>\n",
       "      <td>Lawyer</td>\n",
       "      <td>-1.351394</td>\n",
       "      <td>Private</td>\n",
       "      <td>0.656656</td>\n",
       "      <td>Sports Car</td>\n",
       "      <td>...</td>\n",
       "      <td>False</td>\n",
       "      <td>False</td>\n",
       "      <td>False</td>\n",
       "      <td>False</td>\n",
       "      <td>False</td>\n",
       "      <td>False</td>\n",
       "      <td>False</td>\n",
       "      <td>False</td>\n",
       "      <td>True</td>\n",
       "      <td>False</td>\n",
       "    </tr>\n",
       "    <tr>\n",
       "      <th>4</th>\n",
       "      <td>5</td>\n",
       "      <td>0.0</td>\n",
       "      <td>No</td>\n",
       "      <td>M</td>\n",
       "      <td>High School</td>\n",
       "      <td>Blue Collar</td>\n",
       "      <td>0.007325</td>\n",
       "      <td>Commercial</td>\n",
       "      <td>2.118917</td>\n",
       "      <td>Panel Truck</td>\n",
       "      <td>...</td>\n",
       "      <td>False</td>\n",
       "      <td>False</td>\n",
       "      <td>False</td>\n",
       "      <td>False</td>\n",
       "      <td>False</td>\n",
       "      <td>False</td>\n",
       "      <td>False</td>\n",
       "      <td>False</td>\n",
       "      <td>True</td>\n",
       "      <td>False</td>\n",
       "    </tr>\n",
       "  </tbody>\n",
       "</table>\n",
       "<p>5 rows × 41 columns</p>\n",
       "</div>"
      ],
      "text/plain": [
       "   INDEX  INCOME MARITAL STATUS SEX    EDUCATION          JOB  TRAVEL TIME  \\\n",
       "0      1     0.0             No   F    Bachelors  Blue Collar     0.813273   \n",
       "1      2     0.0             No   M  High School  Blue Collar    -0.981463   \n",
       "2      3     0.0             No   F    Bachelors     Clerical    -0.048886   \n",
       "3      4     0.0             No   F  High School       Lawyer    -1.351394   \n",
       "4      5     0.0             No   M  High School  Blue Collar     0.007325   \n",
       "\n",
       "          USE  MILES CLOCKED     CAR TYPE  ...  city_Houston city_Las Vegas  \\\n",
       "0  Commercial       0.529946   Sports Car  ...         False          False   \n",
       "1     Private       0.748411      Minivan  ...         False          False   \n",
       "2     Private      -0.137830          SUV  ...         False          False   \n",
       "3     Private       0.656656   Sports Car  ...         False          False   \n",
       "4  Commercial       2.118917  Panel Truck  ...         False          False   \n",
       "\n",
       "  city_Los Angeles city_New Albany city_New York City city_Philadelphia  \\\n",
       "0            False           False              False             False   \n",
       "1            False           False              False             False   \n",
       "2            False           False              False             False   \n",
       "3            False           False              False             False   \n",
       "4            False           False              False             False   \n",
       "\n",
       "  city_San Francisco city_Seattle city_Texas city_Washington  \n",
       "0              False        False       True           False  \n",
       "1              False        False       True           False  \n",
       "2              False        False       True           False  \n",
       "3              False        False       True           False  \n",
       "4              False        False       True           False  \n",
       "\n",
       "[5 rows x 41 columns]"
      ]
     },
     "execution_count": 120,
     "metadata": {},
     "output_type": "execute_result"
    }
   ],
   "source": [
    "df.head()"
   ]
  },
  {
   "cell_type": "markdown",
   "metadata": {},
   "source": [
    "**In the data set, each Category in all of the categorical columns have been added as columns with values 0 and 1**\n",
    "**Example: married_Yes, sex_M, Education_High School\n",
    "**If sex_M =1, then it means its a Male and sex_M=0 means its a Female**"
   ]
  }
 ],
 "metadata": {
  "kernelspec": {
   "display_name": "Python 3",
   "language": "python",
   "name": "python3"
  },
  "language_info": {
   "codemirror_mode": {
    "name": "ipython",
    "version": 3
   },
   "file_extension": ".py",
   "mimetype": "text/x-python",
   "name": "python",
   "nbconvert_exporter": "python",
   "pygments_lexer": "ipython3",
   "version": "3.8.5"
  },
  "toc": {
   "base_numbering": 1,
   "nav_menu": {},
   "number_sections": true,
   "sideBar": true,
   "skip_h1_title": false,
   "title_cell": "Table of Contents",
   "title_sidebar": "Contents",
   "toc_cell": false,
   "toc_position": {},
   "toc_section_display": true,
   "toc_window_display": false
  },
  "varInspector": {
   "cols": {
    "lenName": 16,
    "lenType": 16,
    "lenVar": 40
   },
   "kernels_config": {
    "python": {
     "delete_cmd_postfix": "",
     "delete_cmd_prefix": "del ",
     "library": "var_list.py",
     "varRefreshCmd": "print(var_dic_list())"
    },
    "r": {
     "delete_cmd_postfix": ") ",
     "delete_cmd_prefix": "rm(",
     "library": "var_list.r",
     "varRefreshCmd": "cat(var_dic_list()) "
    }
   },
   "types_to_exclude": [
    "module",
    "function",
    "builtin_function_or_method",
    "instance",
    "_Feature"
   ],
   "window_display": false
  }
 },
 "nbformat": 4,
 "nbformat_minor": 4
}
